{
 "cells": [
  {
   "cell_type": "code",
   "execution_count": 1,
   "metadata": {},
   "outputs": [],
   "source": [
    "from nltk import pos_tag\n",
    "from sklearn.decomposition import PCA, LatentDirichletAllocation, NMF\n",
    "from sklearn.cluster import KMeans, SpectralClustering\n",
    "from sklearn.mixture import GaussianMixture, BayesianGaussianMixture\n",
    "from sklearn.covariance import GraphicalLasso\n",
    "from sklearn.metrics import mean_squared_error\n",
    "from nltk.corpus import stopwords, wordnet\n",
    "from collections import Counter\n",
    "import matplotlib.pyplot as plt\n",
    "from time import time\n",
    "import pickle\n",
    "import csv\n",
    "import operator\n",
    "\n",
    "import numpy as np\n",
    "import pandas as pd\n",
    "import matplotlib.pyplot as plt\n",
    "import re\n",
    "\n",
    "#  https://python.gotrained.com/text-classification-with-pandas-scikit/ for basic bags-of-words\n",
    "stop_words_extra = ['i', 'me', 'my', 'myself', 'we', 'our', 'ours', 'ourselves', 'you', 'your', 'yours', 'yourself',\n",
    "                    'yourselves', 'he', 'him', 'his', 'himself', 'she', 'her', 'hers', 'herself', 'it', 'its', 'itself',\n",
    "                    'they', 'them', 'their', 'theirs', 'themselves', 'what', 'which', 'who', 'whom', 'this', 'that',\n",
    "                    'these', 'those', 'am', 'is', 'are', 'was', 'were', 'be', 'been', 'being', 'have', 'has', 'had',\n",
    "                    'having', 'do', 'does', 'did', 'doing', 'a', 'an', 'the', 'and', 'but', 'if', 'or', 'because', 'as',\n",
    "                    'until', 'while', 'of', 'at', 'by', 'for', 'with', 'about', 'against', 'between', 'into', 'through',\n",
    "                    'during', 'before', 'after', 'above', 'below', 'to', 'from', 'up', 'down', 'in', 'out', 'on', 'off',\n",
    "                    'over', 'under', 'again', 'further', 'then', 'once', 'here', 'there', 'when', 'where', 'why', 'how',\n",
    "                    'all', 'any', 'both', 'each', 'few', 'more', 'most', 'other', 'some', 'such', 'no', 'nor', 'not',\n",
    "                    'only', 'own', 'same', 'so', 'than', 'too', 'very', 's', 't', 'can', 'will', 'just', 'don',\n",
    "                    'should', 'now', 'uses', 'use', 'using', 'used', 'one', 'also', 'br', 'href', 'ilink', 'whether']\n",
    "stop_words = stopwords.words(\"english\")\n",
    "stop_words = stop_words + stop_words_extra\n",
    "\n"
   ]
  },
  {
   "cell_type": "code",
   "execution_count": 30,
   "metadata": {},
   "outputs": [],
   "source": [
    "\n",
    "def preprocess(data):\n",
    "    reviews_tokens = []\n",
    "    for review in data:\n",
    "        review = review.lower()  # Convert to lower-case words\n",
    "        raw_word_tokens = re.findall(r'(?:\\w+)', review, flags=re.UNICODE)  # remove pontuaction\n",
    "        word_tokens = [w for w in raw_word_tokens if not w in stop_words]  # do not add stop words\n",
    "        reviews_tokens.append(word_tokens)\n",
    "    return reviews_tokens  # return all tokens\n",
    "\n",
    "\n",
    "# def construct_bag_of_words(data):\n",
    "#     corpus = preprocess(data)\n",
    "#     bag_of_words = {}\n",
    "#     word_count = 0\n",
    "#     for sentence in corpus:\n",
    "#         for word in sentence:\n",
    "#             if word not in bag_of_words:  # do not allow repetitions\n",
    "#                 bag_of_words[word] = word_count  # set indexes\n",
    "#                 word_count += 1\n",
    "#     print(dict(Counter(bag_of_words).most_common(5)))\n",
    "#     return bag_of_words  # index of letters\n",
    "\n",
    "def construct_bag_of_words_freq(data):\n",
    "    corpus = preprocess(data)\n",
    "    bag_of_words = {}\n",
    "    for sentence in corpus:\n",
    "        for word in sentence:\n",
    "            if word not in bag_of_words:  # do not allow repetitions\n",
    "                bag_of_words[word] = 1  # set indexes\n",
    "            else:\n",
    "                bag_of_words[word] = bag_of_words[word] + 1\n",
    "\n",
    "    bag_of_words_thres = {key: val for key, val in bag_of_words.items() if val > 200}\n",
    "    print(\"bag of word counts (filtered): \")\n",
    "    print(dict(Counter(bag_of_words_thres).most_common(200)))\n",
    "    bag_of_words_noun = {key: val for key, val in bag_of_words_thres.items() if pos_tag([key])[0][1] == 'NN'}\n",
    "    print(\"bag of word counts (noun): \")\n",
    "    print(dict(Counter(bag_of_words_noun).most_common(100)))\n",
    "    bag_of_words_adj = {key: val for key, val in bag_of_words_thres.items() if pos_tag([key])[0][1] == 'JJ'}\n",
    "    print(\"bag of word counts (adjective): \")\n",
    "    print(dict(Counter(bag_of_words_adj).most_common(100)))\n",
    "\n",
    "    # ---------------- CHANGE TO bag_of_words_adj IF YOU WANT ADJECTIVE ----------------#\n",
    "    index = 0\n",
    "    for key, val in bag_of_words_thres.items():\n",
    "        bag_of_words_thres[key] = index\n",
    "        index += 1\n",
    "\n",
    "    # bag_of_words_sorted = sorted(bag_of_words_noun.items(), key=operator.itemgetter(1))\n",
    "    # convert back from freq to index\n",
    "    return bag_of_words_thres\n",
    "\n",
    "\n",
    "def featurize(sentence_tokens, bag_of_words):\n",
    "    sentence_features = [0 for x in range(len(bag_of_words))]\n",
    "    for word in sentence_tokens:\n",
    "        if word in bag_of_words.keys():\n",
    "            index = bag_of_words[word]\n",
    "            sentence_features[index] += 1\n",
    "    return sentence_features\n",
    "\n",
    "\n",
    "def get_batch_features(data, bag_of_words):\n",
    "    batch_features = []\n",
    "    reviews_text_tokens = preprocess(data)\n",
    "    for review_text in reviews_text_tokens:\n",
    "        feature_review_text = featurize(review_text, bag_of_words)\n",
    "        batch_features.append(feature_review_text)\n",
    "    return batch_features\n",
    "\n"
   ]
  },
  {
   "cell_type": "code",
   "execution_count": null,
   "metadata": {},
   "outputs": [],
   "source": []
  },
  {
   "cell_type": "code",
   "execution_count": 3,
   "metadata": {},
   "outputs": [
    {
     "data": {
      "text/plain": [
       "'0.24.2'"
      ]
     },
     "execution_count": 3,
     "metadata": {},
     "output_type": "execute_result"
    }
   ],
   "source": [
    "from pickle_func import pickle_dump, pickle_load\n",
    "import pickle\n",
    "import pandas as pd\n",
    "pd.__version__"
   ]
  },
  {
   "cell_type": "code",
   "execution_count": 5,
   "metadata": {},
   "outputs": [],
   "source": [
    "train = pickle_load(\"train80.pkl\")\n",
    "test = pickle_load(\"test20.pkl\")"
   ]
  },
  {
   "cell_type": "code",
   "execution_count": 21,
   "metadata": {},
   "outputs": [
    {
     "data": {
      "text/plain": [
       "(47956, 2249)"
      ]
     },
     "execution_count": 21,
     "metadata": {},
     "output_type": "execute_result"
    }
   ],
   "source": [
    "train.shape"
   ]
  },
  {
   "cell_type": "code",
   "execution_count": 15,
   "metadata": {},
   "outputs": [
    {
     "data": {
      "text/plain": [
       "array([11768, 57687, 37644, ..., 59908, 25096,  4222])"
      ]
     },
     "execution_count": 15,
     "metadata": {},
     "output_type": "execute_result"
    }
   ],
   "source": [
    "type(train)\n",
    "train.index.values"
   ]
  },
  {
   "cell_type": "code",
   "execution_count": 32,
   "metadata": {},
   "outputs": [],
   "source": [
    "profile_df = pd.read_csv(\"profiles.csv\")\n",
    "profile_df = profile_df.drop(['last_online'], axis=1)\n",
    "essay_columns = ['essay0', 'essay1', 'essay2', 'essay3', 'essay4', 'essay5', 'essay6', 'essay7', 'essay8', 'essay9']\n",
    "essay = profile_df[essay_columns]"
   ]
  },
  {
   "cell_type": "code",
   "execution_count": 33,
   "metadata": {},
   "outputs": [
    {
     "name": "stdout",
     "output_type": "stream",
     "text": [
      "bag of word counts (filtered): \n",
      "{'like': 136365, 'love': 121093, 'interests': 100662, 'class': 99837, 'good': 90184, 'music': 85483, 'friends': 84439, 'people': 79886, 'life': 74112, 'time': 72124, 'things': 65672, 'food': 64513, 'new': 59095, 'really': 54808, 'movies': 49534, 'get': 48644, 'know': 45993, 'work': 45515, 'want': 44714, 'books': 41222, 'family': 40707, 'think': 39993, 'going': 38257, 'anything': 38217, 'enjoy': 37585, 'much': 37545, 'go': 37217, 'fun': 34732, 'would': 34087, 'make': 34037, 'lot': 31938, 'amp': 31776, 'working': 30627, 'looking': 29768, 'always': 29388, 'pretty': 29107, 'someone': 28423, 'world': 27889, 'making': 27723, 'something': 27545, 'well': 27055, 'great': 26857, 'favorite': 26320, 'day': 24095, 'trying': 23885, 'live': 23699, 'find': 23630, 'way': 23294, 'read': 23196, 'back': 22989, 'person': 22978, 'years': 22974, 'say': 22099, 'home': 21992, 'many': 21742, 'try': 21696, 'big': 21460, 'around': 21264, 'see': 21146, 'right': 20840, 'little': 20315, 'reading': 20242, 'movie': 20184, 'laugh': 20150, 'school': 19676, 'long': 19382, 'city': 19334, 'strong': 18836, 'take': 18693, 'everything': 18462, 'tv': 18115, 'shows': 18100, 'open': 17766, 'rock': 17721, 'sometimes': 17472, 'next': 17445, 'feel': 17398, 'art': 17395, 'getting': 17354, 'travel': 17191, 'never': 17017, 'cooking': 16985, 'best': 16848, 'still': 16732, 'even': 16726, 'watching': 16708, 'stuff': 16493, 'thing': 16375, 'better': 16281, 'book': 16253, 'night': 16179, 'meet': 15904, 'watch': 15673, 'could': 15673, 'kind': 15641, 'smile': 15587, 'first': 15586, 'probably': 15475, 'though': 15467, 'old': 15417, 'guy': 15364, 'play': 15303, 'usually': 15294, 'bay': 15269, 'living': 15175, 'san': 14839, 'playing': 14581, 'dancing': 14554, 'man': 14492, 'humor': 14460, 'job': 14392, 'every': 14292, 'sense': 14139, 'hard': 14103, 'year': 13963, 'happy': 13873, 'need': 13598, 'eat': 13578, 'mind': 13550, 'show': 13545, 'area': 13023, 'currently': 12978, 'games': 12919, 'eyes': 12902, 'etc': 12881, 'listening': 12770, 'others': 12584, 'last': 12518, 'two': 12459, 'francisco': 12389, 'sf': 12382, 'friend': 12374, 'dinner': 12346, 'bit': 12327, 'maybe': 12319, 'dance': 12295, 'coffee': 12283, 'wine': 12190, 'without': 12094, 'recently': 11695, 'girl': 11615, 'talk': 11459, 'spend': 11459, 'bad': 11454, 'nice': 11450, 'learning': 11436, 'im': 11422, 'got': 11348, 'tell': 11007, 'list': 10998, 'house': 10910, 'writing': 10779, 'often': 10755, 'b': 10722, 'look': 10713, 'let': 10697, 'especially': 10680, 'game': 10629, 'interesting': 10626, 'thinking': 10561, 'actually': 10537, 'traveling': 10456, 'funny': 10423, 'times': 10400, 'ever': 10346, 'taking': 10299, 'place': 10257, 'water': 10221, 'keep': 10184, 'days': 10094, 'different': 10063, 'enjoying': 10057, 'might': 10000, 'moved': 9974, 'future': 9945, 'self': 9880, 'profile': 9856, 'mostly': 9763, 'awesome': 9697, 'week': 9692, 'interested': 9661, 'em': 9615, 'ask': 9591, 'cook': 9552, 'fiction': 9527, 'social': 9491, 'places': 9487, 'come': 9478, 'hanging': 9477, 'men': 9375, 'part': 9354, 'heart': 9288, 'oh': 9274, 'conversation': 9244, 'hair': 9240, 'real': 9183, 'since': 9066, 'country': 9061, 'easy': 9057, 'almost': 9013}\n",
      "bag of word counts (noun): \n",
      "{'love': 121093, 'class': 99837, 'music': 85483, 'life': 74112, 'time': 72124, 'food': 64513, 'work': 45515, 'want': 44714, 'family': 40707, 'think': 39993, 'anything': 38217, 'enjoy': 37585, 'fun': 34732, 'lot': 31938, 'amp': 31776, 'someone': 28423, 'world': 27889, 'something': 27545, 'favorite': 26320, 'day': 24095, 'way': 23294, 'read': 23196, 'person': 22978, 'home': 21992, 'try': 21696, 'right': 20840, 'reading': 20242, 'movie': 20184, 'laugh': 20150, 'school': 19676, 'city': 19334, 'everything': 18462, 'tv': 18115, 'rock': 17721, 'feel': 17398, 'art': 17395, 'travel': 17191, 'cooking': 16985, 'stuff': 16493, 'thing': 16375, 'book': 16253, 'night': 16179, 'meet': 15904, 'watch': 15673, 'kind': 15641, 'smile': 15587, 'guy': 15364, 'play': 15303, 'bay': 15269, 'living': 15175, 'san': 14839, 'man': 14492, 'humor': 14460, 'job': 14392, 'sense': 14139, 'year': 13963, 'need': 13598, 'eat': 13578, 'mind': 13550, 'show': 13545, 'area': 13023, 'etc': 12881, 'francisco': 12389, 'sf': 12382, 'friend': 12374, 'dinner': 12346, 'bit': 12327, 'dance': 12295, 'coffee': 12283, 'wine': 12190, 'girl': 11615, 'talk': 11459, 'spend': 11459, 'im': 11422, 'tell': 11007, 'list': 10998, 'house': 10910, 'b': 10722, 'look': 10713, 'game': 10629, 'funny': 10423, 'place': 10257, 'water': 10221, 'future': 9945, 'self': 9880, 'profile': 9856, 'awesome': 9697, 'week': 9692, 'em': 9615, 'ask': 9591, 'cook': 9552, 'fiction': 9527, 'part': 9354, 'heart': 9288, 'oh': 9274, 'conversation': 9244, 'hair': 9240, 'country': 9061, 'adventure': 8764, 'company': 8757}\n",
      "bag of word counts (adjective): \n",
      "{'good': 90184, 'new': 59095, 'much': 37545, 'great': 26857, 'live': 23699, 'many': 21742, 'big': 21460, 'little': 20315, 'strong': 18836, 'open': 17766, 'next': 17445, 'old': 15417, 'hard': 14103, 'happy': 13873, 'last': 12518, 'bad': 11454, 'nice': 11450, 'different': 10063, 'interested': 9661, 'social': 9491, 'real': 9183, 'easy': 9057, 'important': 8860, 'free': 8439, 'high': 8372, 'american': 8222, 'creative': 7961, 'black': 7871, 'hot': 7719, 'true': 7666, 'full': 7413, 'italian': 6833, 'small': 6687, 'short': 6641, 'active': 6365, 'dead': 6291, 'mexican': 6202, 'serious': 6110, 'indian': 5807, 'red': 5694, 'healthy': 5628, 'possible': 5479, 'private': 5222, 'positive': 5108, 'white': 4964, 'local': 4915, 'comfortable': 4843, 'able': 4833, 'general': 4785, 'willing': 4700, 'typical': 4684, 'young': 4659, 'whole': 4641, 'huge': 4574, 'daily': 4567, 'romantic': 4529, 'special': 4449, 'green': 4409, 'modern': 4357, 'french': 4340, 'curious': 4295, 'classical': 4286, 'japanese': 4193, 'personal': 4033, 'classic': 4005, 'adventurous': 3947, 'quiet': 3932, 'fresh': 3929, 'chinese': 3924, 'single': 3856, 'busy': 3847, 'ready': 3787, 'independent': 3774, 'current': 3735, 'sarcastic': 3407, 'particular': 3323, 'spontaneous': 3240, 'recent': 3124, 'okcupid': 3071, 'lucky': 2987, 'foreign': 2919, 'professional': 2913, 'physical': 2905, 'wrong': 2862, 'second': 2858, 'asian': 2839, 'english': 2767, 'various': 2762, 'delicious': 2695, 'large': 2690, 'major': 2674, 'likely': 2646, 'vegetarian': 2594, 'low': 2542, 'several': 2528, 'musical': 2505, 'common': 2453, 'occasional': 2432, 'intellectual': 2356, 'spiritual': 2326}\n"
     ]
    }
   ],
   "source": [
    "# Bags-of-words for essay features\n",
    "essay = essay.replace(np.nan, '', regex=True)  # remove NaN\n",
    "essay = essay[essay_columns].apply(lambda x: ' '.join(x), axis=1)  # concatenate essays into paragraph\n",
    "essay = essay.str.replace('\\d+', '')  # remove digits in the paragraph\n",
    "\n",
    "bag_of_words = construct_bag_of_words_freq(essay)\n",
    "essay_profile = get_batch_features(essay, bag_of_words)\n"
   ]
  },
  {
   "cell_type": "code",
   "execution_count": 36,
   "metadata": {},
   "outputs": [
    {
     "data": {
      "text/plain": [
       "dict_keys(['would', 'love', 'think', 'kind', 'intellectual', 'either', 'smart', 'guy', 'dumb', 'say', 'tell', 'difference', 'talk', 'ideas', 'concepts', 'odd', 'instead', 'like', 'friend', 'mine', 'house', 'salt', 'favorite', 'word', 'way', 'weird', 'choice', 'know', 'things', 'life', 'better', 'seek', 'make', 'little', 'everyday', 'lazy', 'got', 'tired', 'shoes', 'considered', 'five', 'year', 'old', 'probably', 'tie', 'decided', 'wear', 'leather', 'dress', 'really', 'serious', 'deep', 'conversations', 'silly', 'stuff', 'willing', 'light', 'hearted', 'kiss', 'funny', 'able', 'laugh', 'mind', 'smile', 'still', 'work', 'cool', 'letting', 'wind', 'blow', 'extra', 'points', 'reading', 'guessing', 'video', 'game', 'given', 'yet', 'lastly', 'good', 'attention', 'span', 'currently', 'working', 'international', 'agent', 'company', 'domestic', 'works', 'online', 'classes', 'trying', 'free', 'time', 'perhaps', 'hours', 'worth', 'book', 'sunday', 'making', 'people', 'finding', 'simplicity', 'complexity', 'look', 'six', 'foot', 'half', 'asian', 'makes', 'tough', 'notice', 'blend', 'books', 'republic', 'mice', 'men', 'made', 'want', 'cry', 'catcher', 'rye', 'prince', 'movies', 'gladiator', 'shows', 'arrested', 'development', 'thrones', 'monty', 'python', 'music', 'aesop', 'rock', 'mary', 'george', 'felt', 'food', 'anything', 'water', 'cell', 'phone', 'shelter', 'humorous', 'find', 'someone', 'hang', 'except', 'club', 'new', 'california', 'looking', 'secrets', 'feet', 'catch', 'coffee', 'bite', 'philosophy', 'chef', 'means', 'workaholic', 'cook', 'regardless', 'drink', 'eat', 'foods', 'bad', 'around', 'line', 'outdoors', 'avid', 'tahoe', 'least', 'confident', 'friendly', 'interested', 'acting', 'typical', 'patience', 'acts', 'overall', 'easygoing', 'individual', 'adventurous', 'always', 'forward', 'hopefully', 'sharing', 'right', 'person', 'badass', 'ridiculous', 'fun', 'wherever', 'ass', 'die', 'hard', 'christopher', 'moore', 'fan', 'watch', 'lot', 'tv', 'unless', 'humor', 'involved', 'stuck', 'alternative', 'pretty', 'much', 'everything', 'though', 'need', 'draw', 'types', 'electronica', 'delicious', 'big', 'overly', 'sharp', 'knife', 'ps', 'plays', 'top', 'energy', 'outlook', 'give', 'bag', 'see', 'happens', 'open', 'share', 'ashamed', 'writing', 'public', 'text', 'dating', 'site', 'uncomfortable', 'try', 'earnest', 'possible', 'standing', 'naked', 'world', 'lived', 'san', 'francisco', 'years', 'lots', 'great', 'friends', 'put', 'feeling', 'meeting', 'okay', 'chances', 'complex', 'process', 'multiple', 'questions', 'lifestyle', 'statistics', 'photo', 'without', 'moving', 'quickly', 'another', 'search', 'result', 'already', 'cultural', 'first', 'thought', 'avoid', 'seems', 'far', 'culture', 'goes', 'definitely', 'side', 'spectrum', 'exactly', 'sleeve', 'get', 'talking', 'become', 'everybody', 'else', 'definition', 'certainly', 'fine', 'towards', 'nerdy', 'software', 'musicians', 'artists', 'indulge', 'spend', 'away', 'computer', 'artwork', 'typically', 'concerned', 'group', 'dynamics', 'communication', 'visual', 'form', 'objects', 'technology', 'record', 'dance', 'noise', 'pop', 'experimental', 'electronic', 'studio', 'based', 'besides', 'relatively', 'ego', 'driven', 'activities', 'enjoying', 'meditation', 'chi', 'flirt', 'death', 'different', 'present', 'outside', 'moment', 'hold', 'said', 'seeking', 'something', 'critical', 'remaining', 'generous', 'listening', 'body', 'language', 'often', 'large', 'dry', 'dark', 'glasses', 'physical', 'comment', 'directions', 'care', 'describe', 'maybe', 'come', 'back', 'matrix', 'gets', 'specific', 'non', 'fiction', 'usually', 'art', 'science', 'authors', 'de', 'butler', 'etc', 'throw', 'age', 'psychology', 'mix', 'well', 'enjoy', 'read', 'eco', 'wallace', 'dick', 'vonnegut', 'atwood', 'young', 'asimov', 'reader', 'directors', 'drawn', 'herzog', 'waters', 'hitchcock', 'miike', 'amount', 'trashy', 'name', 'character', 'long', 'television', 'course', 'episodes', 'movie', 'recent', 'favorites', 'breaking', 'wire', 'dexter', 'true', 'blood', 'lost', 'fringe', 'sampling', 'vast', 'field', 'sun', 'ra', 'parker', 'lil', 'wayne', 'dj', 'funk', 'mr', 'fingers', 'rob', 'hood', 'dan', 'bell', 'james', 'blake', 'fela', 'kuti', 'john', 'cage', 'monk', 'robert', 'terry', 'tom', 'b', 'jazz', 'techno', 'acid', 'wave', 'post', 'punk', 'famous', 'theater', 'folk', 'might', 'andy', 'bruce', 'michel', 'marina', 'mike', 'kelly', 'smith', 'anna', 'clearly', 'leaving', 'younger', 'generation', 'contemporary', 'many', 'local', 'sushi', 'zone', 'ros', 'pizza', 'ya', 'blue', 'plate', 'golden', 'era', 'movement', 'conversation', 'creation', 'touch', 'viewing', 'dancing', 'drinking', 'performing', 'known', 'bright', 'intense', 'ironic', 'caring', 'exploration', 'rather', 'match', 'qualities', 'fabulous', 'relationship', 'comfortable', 'library', 'go', 'school', 'written', 'dead', 'playing', 'organizing', 'according', 'system', 'socially', 'awkward', 'best', 'lynch', 'r', 'w', 'twin', 'peaks', 'amp', 'fishing', 'joy', 'division', 'vegetarian', 'pho', 'cats', 'german', 'feel', 'inclined', 'hey', 'going', 'vague', 'profile', 'soon', 'meet', 'folks', 'circle', 'reply', 'tip', 'drop', 'cheers', 'play', 'creating', 'http', 'com', 'inquisitive', 'nature', 'bands', 'oh', 'sees', 'forever', 'wu', 'tang', 'days', 'collection', 'thick', 'thanks', 'live', 'ones', 'whenever', 'gt', 'podcast', 'radiolab', 'american', 'moth', 'joe', 'living', 'build', 'speak', 'chinese', 'songs', 'karaoke', 'asked', 'meant', 'wild', 'imagination', 'reasons', 'occasionally', 'trouble', 'laughing', 'sometimes', 'entrepreneur', 'everyone', 'sf', 'parties', 'downtime', 'equal', 'measure', 'intelligence', 'turns', 'teach', 'building', 'awesome', 'figuring', 'important', 'adventures', 'treasure', 'imagining', 'random', 'shit', 'aforementioned', 'goofy', 'convincing', 'admitting', 'wrong', 'helping', 'problems', 'advice', 'clue', 'help', 'hug', 'wearing', 'contacts', 'kill', 'mockingbird', 'lord', 'rings', 'trilogy', 'beatles', 'frank', 'sinatra', 'mayer', 'jason', 'mraz', 'deadmau', 'andrew', 'records', 'bach', 'met', 'mother', 'scrubs', 'west', 'wing', 'star', 'wars', 'godfather', 'ii', 'summer', 'napoleon', 'dynamite', 'beauty', 'lotr', 'thai', 'vietnamese', 'family', 'hugs', 'human', 'contact', 'sunshine', 'let', 'take', 'sing', 'guitar', 'write', 'goal', 'dreaming', 'breakfast', 'cried', 'day', 'bird', 'head', 'story', 'easy', 'ugly', 'perspective', 'gift', 'digging', 'witty', 'banter', 'camera', 'sums', 'whole', 'hopes', 'opening', 'amused', 'miss', 'last', 'unicorn', 'pictures', 'collect', 'sit', 'especially', 'night', 'country', 'laughter', 'amazing', 'color', 'curiosity', 'rhythm', 'pair', 'sunglasses', 'realm', 'stories', 'magical', 'believe', 'order', 'maintain', 'appreciated', 'special', 'every', 'experience', 'daily', 'waking', 'brings', 'us', 'question', 'tree', 'falls', 'forest', 'hear', 'sound', 'taste', 'smell', 'none', 'matters', 'pay', 'magic', 'call', 'plotting', 'army', 'riding', 'fire', 'breathing', 'kittens', 'friday', 'spending', 'seeing', 'films', 'literary', 'events', 'lectures', 'bookstores', 'thrift', 'stores', 'exploring', 'city', 'full', 'interactive', 'agency', 'remembering', 'sending', 'cards', 'thoughtful', 'arm', 'wrestling', 'approachable', 'small', 'town', 'midwest', 'lists', 'autobiographies', 'beer', 'tap', 'ben', 'folds', 'biking', 'brunch', 'cocktails', 'comfort', 'craft', 'projects', 'design', 'diy', 'essays', 'trips', 'flea', 'markets', 'foreign', 'glee', 'indie', 'ice', 'cream', 'languages', 'libraries', 'mad', 'stewart', 'tapes', 'npr', 'plants', 'puns', 'sewing', 'short', 'singer', 'spicy', 'storytelling', 'sufjan', 'stevens', 'strangers', 'tea', 'tegan', 'sara', 'office', 'travel', 'quirky', 'wes', 'anderson', 'wine', 'yoga', 'notebook', 'pen', 'inspire', 'relaxing', 'home', 'netflix', 'goodness', 'jobs', 'nice', 'could', 'settle', 'sure', 'surrounded', 'keeping', 'happy', 'active', 'blonde', 'picky', 'however', 'extremely', 'low', 'tolerance', 'tho', 'hot', 'sauce', 'burritos', 'guess', 'ways', 'spots', 'marin', 'simply', 'puerto', 'fair', 'comedies', 'romantic', 'otherwise', 'princess', 'bride', 'pixar', 'fear', 'loathing', 'thomas', 'affair', 'gum', 'helps', 'wasting', 'lebowski', 'judge', 'historical', 'murder', 'mysteries', 'fantasy', 'uh', 'occasional', 'romance', 'started', 'decide', 'hunger', 'games', 'saw', 'battle', 'royale', 'imagine', 'version', 'enough', 'peoples', 'even', 'www', 'youtube', 'v', 'feature', 'list', 'sports', 'softball', 'nobody', 'likes', 'zombies', 'kindle', 'loud', 'concerts', 'showers', 'crazy', 'girl', 'cookies', 'curse', 'treats', 'generally', 'reasonable', 'diet', 'box', 'hour', 'bar', 'pants', 'watching', 'potential', 'lovers', 'alone', 'car', 'shower', 'singing', 'loudly', 'key', 'names', 'creative', 'others', 'practical', 'ups', 'appreciate', 'fullest', 'sober', 'past', 'tons', 'artist', 'paint', 'internet', 'cant', 'impression', 'anyone', 'never', 'apartment', 'explore', 'check', 'japanese', 'peruvian', 'nothing', 'beats', 'chai', 'cold', 'hoping', 'pursue', 'venue', 'recently', 'construction', 'job', 'dream', 'opportunities', 'plus', 'keeps', 'shape', 'complain', 'solutions', 'organize', 'space', 'inappropriate', 'times', 'mean', 'bowl', 'cereal', 'heights', 'high', 'angry', 'boys', 'stiff', 'finishing', 'elliott', 'loved', 'biographies', 'impossible', 'grows', 'clash', 'flight', 'radiohead', 'x', 'kinks', 'lennon', 'floyd', 'nina', 'simone', 'smiths', 'jorge', 'sex', 'immortal', 'technique', 'al', 'green', 'cat', 'nine', 'inch', 'nails', 'bob', 'dylan', 'varied', 'kinds', 'bike', 'toothbrush', 'em', 'ok', 'seven', 'strong', 'send', 'message', 'hi', 'bells', 'update', 'market', 'eyes', 'mission', 'social', 'liberal', 'honesty', 'lying', 'involves', 'soft', 'grass', 'bed', 'heard', 'cupid', 'lie', 'height', 'fact', 'whatever', 'female', 'endlessly', 'fascinated', 'women', 'thing', 'okc', 'independent', 'interesting', 'girls', 'overcome', 'gain', 'fresh', 'personalities', 'spirit', 'single', 'scotch', 'jack', 'coke', 'beers', 'likely', 'actually', 'miller', 'irish', 'personality', 'type', 'three', 'lighting', 'exercising', 'move', 'truck', 'teaching', 'simultaneously', 'hugging', 'kissing', 'motivating', 'massage', 'cooking', 'huge', 'constantly', 'incredible', 'pace', 'include', 'tim', 'powers', 'kurt', 'philip', 'k', 'neal', 'harry', 'robin', 'jim', 'greg', 'bear', 'patrick', 'alan', 'dean', 'foster', 'larry', 'e', 'howard', 'jerry', 'steven', 'steve', 'perry', 'banks', 'ken', 'archer', 'scott', 'pilgrim', 'vs', 'usual', 'suspects', 'involving', 'jean', 'virgin', 'tropic', 'thunder', 'serenity', 'marathon', 'man', 'child', 'coming', 'america', 'directed', 'darjeeling', 'limited', 'royal', 'tenenbaums', 'ramen', 'tub', 'machine', 'charles', 'flicks', 'kung', 'fu', 'lee', 'jet', 'li', 'monkeys', 'snatch', 'china', 'pan', 'labyrinth', 'zombie', 'apocalypse', 'basically', 'community', 'parks', 'rec', 'modern', 'misfits', 'californication', 'deadwood', 'firefly', 'mars', 'hilarious', 'british', 'situations', 'hip', 'hop', 'reggae', 'progressive', 'metal', 'industrial', 'classical', 'essentially', 'sparks', 'emotions', 'two', 'albums', 'paul', 'simon', 'beastie', 'sets', 'indian', 'mexican', 'italian', 'french', 'russian', 'middle', 'eastern', 'korean', 'smells', 'refuse', 'snowboarding', 'nerd', 'architecture', 'dinner', 'drinks', 'wish', 'blowing', 'candles', 'birthday', 'cakes', 'giant', 'robots', 'woman', 'healthy', 'self', 'intelligent', 'kisser', 'talented', 'musically', 'wanna', 'grab', 'meal', 'somewhere', 'english', 'melt', 'background', 'excited', 'church', 'gay', 'hell', 'easily', 'offended', 'lack', 'basic', 'sense', 'mouth', 'born', 'grew', 'moved', 'ago', 'combination', 'opportunity', 'wanting', 'took', 'couple', 'peninsula', 'glad', 'eventually', 'passionate', 'wide', 'variety', 'interests', 'talents', 'continually', 'learning', 'example', 'growing', 'college', 'focusing', 'skills', 'previously', 'friendships', 'relationships', 'since', 'friendship', 'deeper', 'less', 'learn', 'amateur', 'ballroom', 'dancer', 'almost', 'seriously', 'joke', 'ties', 'jacket', 'jeans', 'absolutely', 'tick', 'patient', 'ever', 'proud', 'member', 'internal', 'strategy', 'team', 'bank', 'may', 'boring', 'exposed', 'organized', 'business', 'environment', 'soaking', 'knowledge', 'adding', 'bit', 'truly', 'excel', 'average', 'area', 'pride', 'tiny', 'talent', 'skill', 'wood', 'drawing', 'needed', 'picked', 'along', 'hats', 'express', 'expected', 'surprising', 'yes', 'moves', 'eternal', 'vanilla', 'sky', 'stranger', 'garden', 'state', 'classics', 'himym', 'psych', 'bang', 'theory', 'bon', 'iver', 'band', 'horses', 'killers', 'range', 'musical', 'tastes', 'genre', 'bbq', 'available', 'outlet', 'lenses', 'ipod', 'counting', 'homebody', 'forced', 'money', 'found', 'stay', 'mostly', 'connected', 'fascinating', 'map', 'humanity', 'influenced', 'influence', 'hanging', 'staying', 'collective', 'comes', 'waste', 'genuine', 'parents', 'career', 'senior', 'manager', 'profit', 'health', 'organization', 'planning', 'cancer', 'east', 'bay', 'manage', 'super', 'stressful', 'challenging', 'knowing', 'lives', 'communicating', 'closet', 'asking', 'losing', 'remote', 'lap', 'worry', 'spontaneous', 'case', 'stop', 'killing', 'spiders', 'creepy', 'reaching', 'attempt', 'snowboard', 'parallel', 'parking', 'compliments', 'butt', 'orwell', 'close', 'second', 'meaning', 'quite', 'novels', 'holiday', 'bill', 'traffic', 'wall', 'sucker', 'christmas', 'cannot', 'scary', 'desperate', 'housewives', 'stars', 'law', 'svu', 'network', 'embarrassing', 'guilty', 'pleasure', 'show', 'teen', 'mom', 'listen', 'pasta', 'sick', 'cooked', 'recipes', 'checking', 'restaurants', 'comfy', 'warm', 'iphone', 'honest', 'thinking', 'lately', 'change', 'unwinding', 'week', 'glass', 'pack', 'staring', 'hmmm', 'admit', 'turn', 'explain', 'genuinely', 'smiling', 'support', 'kids', 'families', 'obscure', 'dances', 'playful', 'general', 'children', 'pick', 'spice', 'difficult', 'answer', 'handle', 'grace', 'joyful', 'exhausted', 'hated', 'cleaning', 'taught', 'toilet', 'austin', 'originally', 'audio', 'programming', 'programmer', 'across', 'create', 'spare', 'starting', 'ca', 'knew', 'worried', 'bullshit', 'expect', 'respect', 'fit', 'camping', 'backpacking', 'tasty', 'nightlife', 'drum', 'n', 'bass', 'landed', 'gigs', 'genres', 'effort', 'industry', 'fairly', 'learned', 'plan', 'continue', 'getting', 'extended', 'eating', 'factor', 'keep', 'several', '_', 'musician', 'hair', 'cohen', 'bros', 'aliens', 'fist', 'crystal', 'master', 'comedy', 'hall', 'geeky', 'sci', 'fi', 'articles', 'outdoor', 'ranging', 'ambient', 'subject', 'beverage', 'cajun', 'mediterranean', 'espresso', 'sake', 'red', 'white', 'particular', 'beverages', 'device', 'practicing', 'questioning', 'adopted', 'start', 'grow', 'mustache', 'price', 'place', 'connect', 'sum', 'tendencies', 'somewhat', 'hope', 'constant', 'seeker', 'discovering', 'restaurant', 'tend', 'eclectic', 'volunteer', 'participate', 'ears', 'relate', 'personal', 'history', 'military', 'discovery', 'channel', 'boy', 'shooting', 'guns', 'consistently', 'curb', 'enthusiasm', 'sunny', 'studying', 'majoring', 'criminal', 'justice', 'graduating', 'future', 'graduation', 'later', 'project', 'perspectives', 'district', 'chatting', 'homeless', 'drug', 'hmm', 'test', 'toe', 'win', 'necessity', 'tricky', 'prize', 'rare', 'nowadays', 'crave', 'physically', 'told', 'situation', 'shy', 'hearing', 'actor', 'edward', 'rachel', 'director', 'idea', 'stress', 'hitting', 'floor', 'hands', 'ultimate', 'classic', 'bring', 'face', 'concert', 'attended', 'obsessed', 'sopranos', 'highly', 'recommend', 'cellphone', 'eye', 'wallet', 'excuse', 'ponder', 'next', 'vacation', 'knows', 'tag', 'gym', 'heading', 'roommates', 'various', 'locations', 'beaches', 'morning', 'fog', 'roll', 'gate', 'bridge', 'done', 'workout', 'run', 'yeah', 'boom', 'beat', 'raw', 'tried', 'balance', 'switch', 'corner', 'paper', 'opera', 'incredibly', 'annoying', 'ate', 'grapes', 'motorcycle', 'curvy', 'roads', 'curling', 'series', 'photographs', 'joking', 'moments', 'near', 'beach', 'compassion', 'route', 'photos', 'facebook', 'rel', 'nofollow', 'target', '_blank', 'p', 'limits', 'understanding', 'appreciating', 'soul', 'although', 'sandwich', 'wow', 'carrying', 'sandwiches', 'enjoyable', 'heart', 'stayed', 'characters', 'created', 'nap', 'improve', 'efficient', 'tool', 'fits', 'reddit', 'liked', 'vampire', 'kid', 'page', 'relocated', 'months', 'diverse', 'parts', 'gorgeous', 'became', 'emotional', 'mates', 'ride', 'european', 'wheels', 'streets', 'winding', 'road', 'swim', 'walk', 'ocean', 'moon', 'nights', 'hiking', 'cross', 'skiing', 'fall', 'diversity', 'openness', 'cuisine', 'loose', 'chase', 'adventure', 'experiences', 'atmosphere', 'finally', 'inside', 'embrace', 'beginning', 'professional', 'growth', 'reflect', 'left', 'behind', 'europe', 'enjoyed', 'fast', 'worked', 'central', 'taking', 'advantage', 'connecting', 'emotionally', 'analyzing', 'engineering', 'boogie', 'horseback', 'swimming', 'chess', 'hero', 'driving', 'intuition', 'cheerful', 'curious', 'direct', 'energetic', 'happiness', 'passion', 'changes', 'translation', 'closer', 'midnight', 'paris', 'seconds', 'william', 'elliot', 'springsteen', 'greek', 'spanish', 'juicy', 'fruit', 'practice', 'passions', 'searching', 'weekend', 'ask', 'chicago', 'calling', 'randomness', 'endless', 'giving', 'shot', 'places', 'taken', 'motivated', 'feels', 'march', 'madness', 'farmer', 'theme', 'burn', 'running', 'coconut', 'dive', 'bars', 'fancy', 'sundays', 'dolores', 'park', 'walks', 'jokes', 'kinda', 'fam', 'tacos', 'passport', 'trip', 'buy', 'event', 'saturday', 'hangover', 'terrified', 'common', 'anymore', 'graduated', 'major', 'studies', 'latin', 'camp', 'assistant', 'entire', 'planned', 'goals', 'counts', 'apparently', 'reality', 'groove', 'comedian', 'nearly', 'activity', 'hike', 'sport', 'ahead', 'toward', 'supply', 'demand', 'sustainable', 'soap', 'corporation', 'sort', 'sucks', 'companies', 'positive', 'aside', 'cabin', 'season', 'followed', 'confederacy', 'dunces', 'infinite', 'jest', 'terms', 'hbo', 'walking', 'solid', 'cable', 'board', 'bicycle', 'empire', 'baseball', 'diamond', 'surf', 'survive', 'primarily', 'please', 'number', 'pretending', 'weekends', 'completely', 'fake', 'summary', 'wrote', 'sticks', 'real', 'clumsy', 'expert', 'ghost', 'creativity', 'fashioned', 'mistakes', 'rich', 'gold', 'natured', 'bee', 'knees', 'class', 'deal', 'nicely', 'garbage', 'blond', 'noticed', 'oscar', 'wilde', 'michael', 'j', 'nelson', 'sir', 'arthur', 'conan', 'blade', 'runner', 'clockwork', 'orange', 'shining', 'fav', 'pink', 'vinyl', 'label', 'vegan', 'animals', 'twilight', 'eric', 'david', 'eccentric', 'bored', 'simple', 'hopping', 'nonsense', 'song', 'rebel', 'billy', 'idol', 'beyond', 'control', 'integrity', 'promise', 'transplant', 'straight', 'interaction', 'alot', 'roses', 'lets', 'happen', 'swear', 'unique', 'method', 'typing', 'driver', 'pleasant', 'dunno', 'slowly', 'weezer', 'aware', 'problem', 'four', 'u', 'radio', 'station', 'oakland', 'cut', 'dressing', 'gross', 'hide', 'nonfiction', 'sociology', 'minimal', 'concept', 'goth', 'lo', 'dig', 'sooo', 'venture', 'outer', 'horror', 'revenge', 'specifically', 'flying', 'babies', 'gang', 'gary', 'wilson', 'evil', 'iron', 'santa', 'holy', 'mountain', 'lady', 'el', 'hospital', 'velvet', 'mob', 'bikes', 'shitty', 'totally', 'rad', 'topic', 'cause', 'jam', 'tunes', 'jump', 'couch', 'bowie', 'stupid', 'ring', 'part', 'arcade', 'gave', 'chance', 'honestly', 'youre', 'played', 'till', 'th', 'graphic', 'designer', 'focused', 'marketing', 'advertising', 'university', 'colorado', 'humble', 'optimistic', 'gratitude', 'today', 'stepping', 'toes', 'strive', 'positivity', 'specialty', 'possibly', 'expectations', 'consider', 'gentleman', 'raised', 'lucky', 'beautiful', 'oceans', 'north', 'shore', 'dog', 'ipad', 'dining', 'traveling', 'fly', 'pro', 'surfing', 'older', 'brother', 'cycling', 'freelance', 'technician', 'quick', 'forth', 'hawaii', 'relax', 'islands', 'spiritually', 'grounded', 'socializing', 'naturally', 'matter', 'vice', 'versa', 'trust', 'decisions', 'stage', 'competitive', 'together', 'junior', 'national', 'basketball', 'soccer', 'united', 'golf', 'tennis', 'cycle', 'mile', 'race', 'st', 'hobbies', 'perfect', 'judgmental', 'square', 'bunch', 'break', 'alchemist', 'baby', 'thin', 'air', 'island', 'shine', 'documentaries', 'shawshank', 'redemption', 'departed', 'grand', 'stand', 'planes', 'trains', 'dumber', 'trading', 'uncle', 'buck', 'league', 'z', 'giants', 'seasons', 'entourage', 'seinfeld', 'eastbound', 'rap', 'oldies', 'clothes', 'via', 'japan', 'importance', 'reason', 'cliche', 'realize', 'fashion', 'lol', 'student', 'hate', 'month', 'obsession', 'drives', 'prepare', 'went', 'boston', 'ready', 'leap', 'choosing', 'semester', 'bet', 'sweet', 'fixing', 'putting', 'importantly', 'travelling', 'point', 'ethnicity', 'brown', 'digital', 'martin', 'wheel', 'irrational', 'castle', 'weeds', 'supernatural', 'tokyo', 'fight', 'pirates', 'caribbean', 'saga', 'forrest', 'gump', 'spirited', 'sherlock', 'holmes', 'wings', 'headphones', 'leave', 'harder', 'badly', 'zen', 'buddhism', 'admire', 'longer', 'sleep', 'piano', 'poorly', 'perform', 'dork', 'preferably', 'suck', 'laid', 'retail', 'management', 'bowling', 'potter', 'spartacus', 'im', 'lunch', 'okcupid', 'account', 'urban', 'devoted', 'transit', 'wilderness', 'remember', 'exists', 'politically', 'speaking', 'dozen', 'bart', 'anywhere', 'teacher', 'traveler', 'guide', 'figure', 'path', 'sustainability', 'policy', 'accurate', 'education', 'geek', 'scientific', 'journal', 'sculpture', 'painting', 'useful', 'grown', 'mentally', 'charm', 'obsessive', 'reach', 'sisters', 'act', 'strings', 'dudes', 'gonna', 'outdoorsy', 'requirement', 'settling', 'bio', 'beard', 'immediately', 'hipster', 'milk', 'nose', 'depends', 'supposed', 'covered', 'dirt', 'clean', 'omnivore', 'dilemma', 'kavalier', 'clay', 'necessary', 'revolution', 'phantom', 'anatomy', 'species', 'louis', 'armstrong', 'decemberists', 'phoenix', 'spoon', 'addiction', 'cities', 'mountains', 'politics', 'someday', 'materials', 'power', 'tools', 'looks', 'australia', 'among', 'universal', 'healthcare', 'news', 'obvious', 'evolution', 'party', 'videos', 'cute', 'worse', 'niece', 'blame', 'total', 'pretend', 'crappy', 'shirt', 'product', 'minnesota', 'talked', 'related', 'gone', 'kidding', 'asleep', 'puppy', 'impromptu', 'room', 'gotten', 'cube', 'stands', 'set', 'quiet', 'pursuits', 'lights', 'shiny', 'creature', 'deprecating', 'everywhere', 'poetry', 'carlos', 'williams', 'improv', 'aesthetics', 'ol', 'mood', 'johnny', 'walker', 'rocks', 'picnic', 'drive', 'coast', 'player', 'youth', 'resources', 'step', 'masters', 'poets', 'stephen', 'milan', 'kundera', 'tony', 'july', 'cormac', 'mccarthy', 'robbins', 'leonard', 'anne', 'waits', 'pulp', 'ward', 'gillian', 'welch', 'regina', 'spektor', 'depeche', 'mode', 'river', 'ani', 'difranco', 'jay', 'cash', 'modest', 'mouse', 'feist', 'pleasures', 'comics', 'bastards', 'spot', 'batman', 'came', 'correct', 'shame', 'buffy', 'slayer', 'joss', 'whedon', 'seafood', 'companionship', 'son', 'lyrics', 'alive', 'fill', 'existential', 'void', 'thrill', 'words', 'brain', 'stomach', 'solo', 'greatest', 'ambition', 'wisdom', 'requires', 'attitude', 'scared', 'daydreaming', 'indulging', 'interview', 'pursuit', 'scenarios', 'potentially', 'bat', 'called', 'theres', 'plenty', 'sell', 'mini', 'partner', 'f', 'sleeping', 'sat', 'napa', 'entertainment', 'finished', 'tales', 'watched', 'street', 'dreams', 'smarter', 'btw', 'neighbors', 'sonoma', 'afraid', 'seen', 'end', 'date', 'add', 'silliness', 'seriousness', 'rat', 'surface', 'strictly', 'vocabulary', 'tries', 'vegas', 'yosemite', 'pool', 'darts', 'museum', 'deck', 'sam', 'countries', 'reservations', 'ground', 'cover', 'costa', 'rica', 'peru', 'chile', 'canada', 'mexico', 'brazil', 'germany', 'france', 'spell', 'goofball', 'relating', 'silver', 'lining', 'compassionate', 'hills', 'worst', 'changed', 'throughout', 'underwear', 'memory', 'ummm', 'sarcastic', 'sounding', 'chick', 'nowhere', 'co', 'workers', 'blanket', 'thank', 'hehe', 'sand', 'laying', 'sunlight', 'gas', 'land', 'puzzles', 'supportive', 'fix', 'pocket', 'loving', 'freaking', 'respond', 'lips', 'yo', 'memories', 'drama', 'mystery', 'takes', 'cheesy', 'epic', 'fucking', 'terrible', 'cartoon', 'beirut', 'animal', 'coldplay', 'daft', 'fever', 'ray', 'castles', 'fleet', 'foxes', 'fires', 'edit', 'taco', 'choose', 'juice', 'fried', 'portland', 'grad', 'returning', 'neighbor', 'varies', 'grid', 'clubbing', 'cuddling', 'chilling', 'gifts', 'whip', 'former', 'teachers', 'intimidating', 'sacramento', 'northern', 'meantime', 'artistic', 'museums', 'discussing', 'consuming', 'animation', 'film', 'photography', 'disaster', 'introverted', 'appreciation', 'sarcasm', 'coworkers', 'challenge', 'improving', 'bigger', 'appetite', 'sold', 'scene', 'sheep', 'hitchhiker', 'galaxy', 'fish', 'odyssey', 'incredibles', 'dr', 'strangelove', 'neutral', 'hotel', 'sharpe', 'magnetic', 'zeros', 'black', 'keys', 'broken', 'goats', 'mornings', 'foodie', 'consistent', 'fortunate', 'handful', 'count', 'recommendations', 'busy', 'effects', 'kitchen', 'doubt', 'catching', 'hand', 'south', 'returned', 'tech', 'aspirations', 'tan', 'un', 'sexy', 'festival', 'rest', 'bodies', 'universe', 'becomes', 'clear', 'finish', 'bottle', 'sunrise', 'buddies', 'partners', 'seem', 'dubstep', 'bisexual', 'polyamorous', 'anyway', 'minded', 'fully', 'secretly', 'hopeless', 'rush', 'relaxed', 'earth', 'note', 'term', 'committed', 'fulfilling', 'rocking', 'drunken', 'begin', 'dramas', 'electric', 'entertaining', 'section', 'judging', 'burning', 'sour', 'soup', 'starts', 'develop', 'clubs', 'kick', 'hello', 'equally', 'blows', 'exchange', 'silicon', 'valley', 'seeds', 'ish', 'creek', 'native', 'exotic', 'soulful', 'believer', 'action', 'celebrating', 'raise', 'standard', 'shades', 'heels', 'boots', 'rough', 'dogs', 'bags', 'strength', 'courage', 'innocent', 'treat', 'nin', 'packing', 'nieces', 'nephews', 'presence', 'cinema', 'noir', 'current', 'bourdain', 'crowd', 'muse', 'zeppelin', 'hendrix', 'crash', 'kings', 'nova', 'temper', 'trap', 'johnson', 'lamontagne', 'thievery', 'yummy', 'quality', 'lines', 'tu', 'champagne', 'caught', 'possibility', 'resist', 'chemistry', 'wit', 'offers', 'telling', 'coolest', 'description', 'lead', 'darkness', 'abilities', 'achieving', 'destiny', 'forces', 'ethics', 'blah', 'teeth', 'published', 'usa', 'hidden', 'electronics', 'mild', 'evening', 'adventurer', 'competition', 'forms', 'answering', 'tells', 'cars', 'systems', 'furniture', 'websites', 'ah', 'clever', 'haha', 'accent', 'americans', 'neither', 'style', 'failed', 'impressive', 'easier', 'access', 'worlds', 'opposite', 'remain', 'due', 'leg', 'accidentally', 'er', 'guys', 'ended', 'weeks', 'blast', 'thus', 'security', 'wait', 'blunt', 'bare', 'says', 'tall', 'round', 'upon', 'conversing', 'secret', 'discover', 'lower', 'auto', 'despite', 'male', 'trick', 'solar', 'smaller', 'fail', 'source', 'participating', 'sup', 'crime', 'latest', 'biotech', 'property', 'causes', 'tooth', 'normal', 'dated', 'visit', 'email', 'chat', 'prefer', 'introduce', 'plink', 'front', 'liking', 'hobby', 'sailing', 'rights', 'including', 'anybody', 'website', 'net', 'hesitate', 'considerate', 'affection', 'paid', 'shirts', 'insightful', 'quotes', 'images', 'shave', 'suggestions', 'tolkien', 'sadly', 'jordan', 'passed', 'completing', 'c', 'tad', 'raymond', 'da', 'vinci', 'code', 'avatar', 'inception', 'quest', 'grail', 'memento', 'shell', 'cartoons', 'styles', 'mozart', 'beethoven', 'within', 'religion', 'inc', 'mixed', 'periods', 'lacking', 'obviously', 'missing', 'flexible', 'powerful', 'figured', 'pages', 'deserve', 'sooner', 'involve', 'private', 'opened', 'wonderful', 'messages', 'checked', 'intended', 'interest', 'agree', 'disagree', 'listed', 'york', 'diego', 'root', 'actions', 'sentences', 'majored', 'jeopardy', 'context', 'punch', 'eggs', 'useless', 'references', 'transportation', 'bout', 'limit', 'shop', 'whiskey', 'neat', 'shuffle', 'quote', 'podcasts', 'mindless', 'bread', 'butter', 'bacon', 'card', 'commute', 'sneakers', 'weight', 'resourceful', 'closely', 'fitness', 'exercise', 'majority', 'row', 'optimist', 'doom', 'producing', 'sounds', 'jerk', 'reliable', 'war', 'cradle', 'germs', 'steel', 'heaven', 'boardwalk', 'raising', 'arizona', 'mulholland', 'bro', 'occasion', 'sitting', 'pile', 'contradictions', 'extrovert', 'dreamer', 'stubborn', 'complete', 'confidence', 'succeed', 'failure', 'loyal', 'stimulating', 'companion', 'sight', 'complicated', 'bought', 'designing', 'identifying', 'chaos', 'steinbeck', 'dave', 'eggers', 'h', 'g', 'murakami', 'solitude', 'wife', 'dying', 'ferris', 'bueller', 'blazing', 'saddles', 'luke', 'donnie', 'darko', 'mama', 'tambien', 'harold', 'states', 'baraka', 'breaks', 'cheese', 'mushrooms', 'bicycles', 'freedom', 'cosmos', 'pie', 'describing', 'expanding', 'entirely', 'shares', 'lust', 'shared', 'mainstream', 'jumping', 'views', 'topics', 'following', 'depth', 'surround', 'intimidated', 'sensual', 'kisses', 'aspect', 'issue', 'opposed', 'mt', 'climbing', 'kite', 'serial', 'ultimately', 'interactions', 'awhile', 'environmental', 'began', 'trek', 'dear', 'surprised', 'hiatus', 'luckily', 'journey', 'destinations', 'hopeful', 'speed', 'solving', 'freak', 'chuck', 'palahniuk', 'thriller', 'unusual', 'king', 'tower', 'quentin', 'tarantino', 'festivals', 'rjd', 'explosions', 'gogol', 'bordello', 'antique', 'cal', 'hella', 'yelp', 'supporting', 'hole', 'understand', 'runs', 'function', 'addicted', 'crew', 'anyways', 'summarize', 'oneself', 'suppose', 'educational', 'bones', 'chopped', 'blind', 'hiphop', 'slow', 'jams', 'listened', 'rides', 'eagles', 'ccr', 'fusion', 'trucks', 'closest', 'blog', 'dishes', 'electrical', 'flip', 'income', 'strawberry', 'swedish', 'sister', 'nervous', 'goat', 'success', 'third', 'cup', 'letter', 'managed', 'proper', 'spent', 'boat', 'grade', 'fell', 'captain', 'volleyball', 'study', 'realized', 'bachelor', 'london', 'fixed', 'sometime', 'truth', 'option', 'stick', 'mischief', 'wet', 'clouds', 'ann', 'receiving', 'split', 'feisty', 'rocket', 'astrology', 'shorts', 'minds', 'web', 'duh', 'yep', 'voice', 'sonic', 'strange', 'girlfriend', 'citizen', 'van', 'screen', 'door', 'vegetables', 'meat', 'vintage', 'fuck', 'colors', 'colorful', 'patterns', 'kickin', 'seat', 'gotta', 'bound', 'shall', 'challenged', 'dare', 'opinion', 'therefore', 'thoughts', 'link', 'fucked', 'ten', 'rent', 'katy', 'rick', 'winning', 'literally', 'click', 'button', 'deeply', 'cares', 'encounters', 'meets', 'woods', 'serving', 'endearing', 'horizons', 'magazines', 'colbert', 'report', 'anytime', 'veggie', 'oysters', 'homemade', 'pickles', 'springs', 'desert', 'rum', 'smiles', 'faces', 'monday', 'habit', 'wants', 'curl', 'waiting', 'exciting', 'loves', 'climb', 'ping', 'pong', 'mixing', 'depending', 'setting', 'sedaris', 'bukowski', 'dune', 'ender', 'malkovich', 'aquatic', 'visiting', 'items', 'twisted', 'djing', 'offer', 'scuba', 'gaming', 'motorcycles', 'routine', 'decent', 'values', 'sincere', 'baking', 'value', 'debating', 'devil', 'advocate', 'logic', 'defined', 'beliefs', 'guard', 'jelly', 'bean', 'candy', 'intrigued', 'alex', 'legal', 'knack', 'rewarding', 'facts', 'must', 'trivia', 'streak', 'fault', 'flaws', 'unfortunately', 'regard', 'engineer', 'medical', 'socks', 'farm', 'chickens', 'attractive', 'elephants', 'arrogant', 'chocolate', 'madonna', 'accents', 'pandora', 'fuzzy', 'skin', 'masculine', 'oriented', 'hangout', 'kayaking', 'bees', 'backyard', 'honey', 'trained', 'main', 'needs', 'achieve', 'rid', 'chronicle', 'et', 'god', 'almodovar', 'xx', 'manu', 'chao', 'travels', 'adrenaline', 'hunter', 'cooler', 'soma', 'researching', 'relevant', 'aspects', 'professor', 'improvement', 'plane', 'touching', 'visited', 'intuitive', 'paying', 'spaces', 'expression', 'clothing', 'saying', 'scientist', 'fields', 'gives', 'encounter', 'struggling', 'holds', 'birds', 'brothers', 'determined', 'discuss', 'brian', 'eno', 'soundtrack', 'attempting', 'listing', 'sheets', 'aspire', 'documentary', 'groups', 'bookstore', 'belt', 'ladies', 'eyelashes', 'push', 'max', 'educator', 'position', 'spelling', 'grammar', 'absurdity', 'hawaiian', 'pacific', 'insert', 'hundred', 'unbearable', 'edgar', 'poe', 'pablo', 'neruda', 'trainspotting', 'maude', 'vertigo', 'roger', 'pearl', 'led', 'beck', 'leon', 'buena', 'vista', 'sublime', 'laptop', 'daydream', 'lands', 'southeast', 'jungle', 'ton', 'xbox', 'spinning', 'dirty', 'puts', 'careers', 'sugar', 'clown', 'convinced', 'matching', 'exist', 'upcoming', 'fave', 'hook', 'reads', 'laws', 'leadership', 'roof', 'attracted', 'mellow', 'racing', 'miles', 'bottom', 'missed', 'shenanigans', 'inventing', 'nick', 'vibe', 'maintenance', 'sea', 'chill', 'requiem', 'rider', 'spotless', 'faster', 'doctor', 'hurt', 'sent', 'belly', 'brow', 'looked', 'worrying', 'county', 'pa', 'feed', 'desire', 'philly', 'gardening', 'students', 'stimulation', 'spiritual', 'peace', 'photographer', 'lt', 'trades', 'lies', 'filling', 'curly', 'exhausting', 'jon', 'genius', 'bluegrass', 'cop', 'pieces', 'gardens', 'combine', 'theories', 'chest', 'la', 'abstract', 'civilization', 'somehow', 'enthusiast', 'sorts', 'startup', 'downtown', 'vision', 'data', 'titles', 'que', 'locally', 'brewing', 'ball', 'brew', 'bake', 'hiding', 'fridge', 'information', 'content', 'grizzly', 'cafe', 'sigur', 'pumpkins', 'peep', 'madmen', 'portlandia', 'hulu', 'surely', 'coen', 'wikipedia', 'features', 'avocado', 'ideal', 'cocktail', 'reveal', 'plain', 'profiles', 'nolan', 'amelie', 'wash', 'dont', 'conventional', 'commitment', 'pushing', 'early', 'childhood', 'aged', 'purpose', 'pull', 'giver', 'invisible', 'umm', 'mia', 'stare', 'chicks', 'clerks', 'wanted', 'whim', 'inspired', 'nash', 'joplin', 'alice', 'chains', 'offspring', 'metallica', 'chili', 'peppers', 'mac', 'dre', 'randomly', 'included', 'eater', 'chain', 'robot', 'serve', 'faith', 'escape', 'fears', 'rational', 'track', 'accepting', 'forget', 'prayer', 'saint', 'plans', 'feelings', 'rude', 'assertive', 'odds', 'compelled', 'heck', 'service', 'frequently', 'sacred', 'twenty', 'existence', 'poems', 'knitting', 'gatherings', 'navigating', 'natural', 'houses', 'walls', 'blankets', 'studied', 'ancient', 'habits', 'butterfly', 'forgotten', 'changing', 'roots', 'impressed', 'aid', 'pray', 'forgot', 'mention', 'wears', 'intimate', 'force', 'understands', 'speaks', 'slight', 'vulnerable', 'pain', 'superbad', 'benny', 'trees', 'rarely', 'henry', 'thankfully', 'program', 'counseling', 'clinical', 'training', 'profound', 'absurd', 'chosen', 'converse', 'meditate', 'failing', 'gravitate', 'extreme', 'kale', 'smoke', 'silence', 'described', 'turned', 'compliment', 'pet', 'theaters', 'empathy', 'forgetting', 'chris', 'tori', 'amos', 'fiona', 'apple', 'bjork', 'flaming', 'shins', 'metric', 'chopin', 'lily', 'allen', 'cake', 'bloc', 'kate', 'bush', 'wilco', 'neko', 'stripes', 'cure', 'portishead', 'interpol', 'joanna', 'newsom', 'cocteau', 'twins', 'billie', 'rufus', 'adaptation', 'hedwig', 'eve', 'huckabees', 'witch', 'diving', 'stone', 'angels', 'literature', 'brief', 'letters', 'poet', 'tale', 'pale', 'middlesex', 'spirits', 'battlestar', 'galactica', 'planet', 'futurama', 'files', 'simpsons', 'model', 'peanut', 'harper', 'meaningful', 'psychological', 'possibilities', 'favor', 'fridays', 'attract', 'slightly', 'society', 'expand', 'updated', 'airport', 'sorry', 'graduate', 'bs', 'biology', 'evenings', 'cynical', 'perfection', 'accept', 'leaves', 'saving', 'lab', 'comments', 'comic', 'fallen', 'independence', 'hunting', 'lambs', 'oxygen', 'level', 'structure', 'buying', 'headed', 'cruz', 'covers', 'desserts', 'ability', 'empty', 'marshall', 'neuroscience', 'cracking', 'causing', 'properly', 'tomorrow', 'prove', 'risks', 'writer', 'focus', 'tender', 'pilot', 'painter', 'worker', 'instructor', 'airplane', 'baker', 'cheesecake', 'maker', 'smoothies', 'gear', 'levels', 'managing', 'reflection', 'massive', 'weather', 'basis', 'whistling', 'collins', 'ted', 'excellent', 'weak', 'gender', 'gossip', 'anthony', 'bollywood', 'ethiopian', 'burgers', 'political', 'organic', 'snob', 'dairy', 'products', 'appropriate', 'lounge', 'indoors', 'eats', 'responsible', 'extroverted', 'charming', 'dominant', 'stable', 'elementary', 'math', 'handy', 'phd', 'minute', 'liar', 'amadeus', 'shakespeare', 'heat', 'iv', 'wolves', 'challenges', 'thailand', 'appearance', 'jersey', 'core', 'queer', 'poly', 'boxes', 'scrabble', 'adult', 'detail', 'interwebs', 'poker', 'tattoos', 'mentioned', 'sandman', 'actual', 'linguistics', 'sailor', 'details', 'degree', 'research', 'scifi', 'neil', 'stephenson', 'kubrick', 'disney', 'trailer', 'yelling', 'sweat', 'tattoo', 'government', 'identify', 'shark', 'semi', 'wondering', 'direction', 'destination', 'size', 'center', 'campus', 'print', 'intentions', 'affectionate', 'anthropology', 'becoming', 'circus', 'suggest', 'gaiman', 'jane', 'austen', 'jones', 'briggs', 'prejudice', 'howl', 'boondock', 'saints', 'moby', 'nirvana', 'flogging', 'molly', 'helped', 'dad', 'unpredictable', 'view', 'halloween', 'costume', 'atlas', 'shrugged', 'brave', 'bryson', 'owen', 'president', 'wedding', 'crashers', 'maria', 'lock', 'stock', 'smoking', 'barrels', 'emperor', 'goonies', 'endings', 'runway', 'homeland', 'downton', 'abbey', 'brooklyn', 'muni', 'artsy', 'southern', 'actively', 'talkative', 'economics', 'berlin', 'applying', 'economic', 'castro', 'authenticity', 'role', 'buddy', 'perfectly', 'ex', 'earned', 'ba', 'bills', 'programs', 'preferred', 'approach', 'economy', 'developing', 'wines', 'afford', 'distance', 'lookin', 'trail', 'faulkner', 'august', 'les', 'morrison', 'beloved', 'twain', 'lighter', 'medium', 'provide', 'africa', 'sunset', 'remains', 'elizabeth', 'thrillers', 'hunt', 'october', 'bourne', 'greater', 'allowed', 'edition', 'entertained', 'matches', 'ncis', 'postal', 'davis', 'keith', 'authentic', 'capable', 'awareness', 'happening', 'humility', 'todd', 'ordinary', 'spark', 'surprise', 'expecting', 'traveled', 'bug', 'quit', 'yr', 'return', 'million', 'dollar', 'profession', 'tone', 'mid', 'hence', 'enjoys', 'debate', 'tongue', 'wake', 'rd', 'shops', 'ski', 'kayak', 'assuming', 'weekdays', 'materialistic', 'granted', 'bonus', 'subtle', 'humour', 'mental', 'maps', 'alameda', 'favourite', 'piece', 'cozy', 'stretch', 'frequent', 'ny', 'worthwhile', 'trails', 'paths', 'gallery', 'performances', 'particularly', 'mobile', 'blogs', 'gadgets', 'connection', 'ideally', 'wise', 'mutual', 'knit', 'goods', 'ink', 'souls', 'rescue', 'acoustic', 'guitars', 'esp', 'twitter', 'trader', 'media', 'innovation', 'tripping', 'ethnic', 'thinks', 'uk', 'electro', 'fitzgerald', 'dragon', 'washed', 'mumford', 'sons', 'whale', 'yeahs', 'peter', 'cooke', 'otis', 'redding', 'tribe', 'fm', 'goo', 'ie', 'smartphone', 'lay', 'saturdays', 'gaga', 'crack', 'enjoyment', 'strongly', 'collecting', 'happily', 'physics', 'areas', 'lessons', 'crap', 'pattern', 'sticking', 'gibson', 'ursula', 'le', 'haruki', 'meats', 'watchmen', 'siddhartha', 'gatsby', 'roald', 'dahl', 'lovecraft', 'blues', 'melody', 'coltrane', 'mushroom', 'aphex', 'mingus', 'attack', 'cult', 'joan', 'ladytron', 'spinal', 'chicken', 'cowboy', 'bebop', 'aqua', 'philadelphia', 'tank', 'pi', 'lola', 'las', 'nightmare', 'string', 'samurai', 'answers', 'charge', 'legs', 'welcome', 'hikes', 'hungry', 'touring', 'tropical', 'corny', 'onion', 'regularly', 'magazine', 'mgmt', 'pornographers', 'sean', 'hooked', 'pbs', 'pencil', 'someplace', 'flowers', 'prepared', 'responsibility', 'feast', 'blank', 'empathetic', 'dislike', 'introvert', 'leads', 'liquor', 'eight', 'healthier', 'calm', 'category', 'iced', 'mint', 'user', 'hit', 'believes', 'allergic', 'gut', 'boxing', 'pets', 'tent', 'scissors', 'prime', 'apples', 'tomatoes', 'happier', 'grabbing', 'idk', 'manga', 'virginia', 'impulsive', 'animated', 'motion', 'picture', 'luck', 'zoolander', 'rain', 'salsa', 'shelf', 'scratch', 'tumblr', 'violence', 'pumpkin', 'salad', 'potato', 'conversationalist', 'dimples', 'thousand', 'splendid', 'suns', 'freakonomics', 'western', 'carl', 'heroes', 'april', 'burrito', 'horizon', 'attending', 'higher', 'josh', 'internets', 'joseph', 'campbell', 'brooks', 'mythology', 'tao', 'foucault', 'burroughs', 'ordering', 'jackson', 'powder', 'pepper', 'soda', 'owning', 'regrets', 'blessed', 'obnoxious', 'horse', 'ing', 'pulling', 'train', 'pulled', 'ed', 'sur', 'hong', 'kong', 'lake', 'mark', 'ms', 'falling', 'subjects', 'wandering', 'cousin', 'alcohol', 'arts', 'carpenter', 'trash', 'paradise', 'warriors', 'heavy', 'handed', 'bananas', 'cloud', 'bears', 'cave', 'drugs', 'taylor', 'swift', 'husband', 'carbon', 'ha', 'onto', 'union', 'sidewalk', 'sentence', 'added', 'banana', 'nutshell', 'appreciates', 'lasting', 'optimism', 'spontaneity', 'father', 'seattle', 'disco', 'touched', 'hangin', 'booty', 'professionally', 'puppies', 'outgoing', 'wonder', 'listener', 'rolling', 'landscape', 'architect', 'planner', 'drums', 'roller', 'coaster', 'hippie', 'hill', 'surprises', 'century', 'funky', 'casablanca', 'afternoon', 'familiar', 'fate', 'humans', 'creatures', 'thinker', 'rice', 'beans', 'wrapped', 'damn', 'flow', 'del', 'ninja', 'nope', 'workaholics', 'snow', 'holding', 'gun', 'store', 'define', 'confusing', 'irony', 'safety', 'courses', 'gig', 'creatively', 'conflict', 'martial', 'fool', 'orson', 'elephant', 'malcolm', 'gladwell', 'bond', 'pondering', 'issues', 'astronomy', 'fantastic', 'exceptional', 'behavior', 'repeat', 'weed', 'livin', 'adorable', 'carefully', 'voices', 'startups', 'tattooed', 'dose', 'thrown', 'thrive', 'experiencing', 'counter', 'rely', 'certain', 'forests', 'ignore', 'tops', 'chabon', 'marquez', 'rushdie', 'franzen', 'yorker', 'marry', 'suspect', 'hearts', 'lame', 'vincent', 'airplanes', 'killed', 'laura', 'episode', 'bathroom', 'mirror', 'pic', 'dish', 'football', 'abroad', 'alternate', 'opinions', 'trainer', 'daughters', 'finds', 'musicals', 'popcorn', 'wired', 'logical', 'analyze', 'regret', 'provoking', 'corporate', 'cultures', 'adore', 'kept', 'decades', 'poem', 'borges', 'skydiving', 'eaten', 'drunk', 'bum', 'designed', 'providing', 'period', 'ballet', 'theatre', 'cuisines', 'gore', 'alfred', 'woody', 'grant', 'kevin', 'emily', 'matt', 'extensively', 'inner', 'performance', 'newest', 'intriguing', 'answered', 'manner', 'sites', 'shoot', 'thats', 'med', 'coaching', 'tendency', 'ginger', 'amazed', 'lawyer', 'attorney', 'cheering', 'playlists', 'lit', 'jimmy', 'twice', 'hockey', 'dabble', 'christian', 'christ', 'bits', 'affairs', 'organizations', 'ambitious', 'nonprofit', 'bringing', 'recreation', 'lonely', 'argentina', 'moulin', 'rouge', 'aerosmith', 'damien', 'jeff', 'buckley', 'crow', 'duke', 'volunteering', 'investing', 'asks', 'save', 'arguing', 'gray', 'horrible', 'stevie', 'emphasis', 'intellect', 'jk', 'yea', 'doors', 'bible', 'lottery', 'angel', 'californian', 'tomboy', 'niners', 'conscious', 'effect', 'obama', 'bicycling', 'goin', 'picking', 'teenage', 'dharma', 'dolly', 'oz', 'educated', 'ect', 'owner', 'developer', 'banjo', 'toss', 'cali', 'similar', 'lover', 'ness', 'dealing', 'intj', 'signs', 'asshole', 'lose', 'yellow', 'recovering', 'expensive', 'wolf', 'appeal', 'herbert', 'sad', 'pork', 'awful', 'chillin', 'bourbon', 'google', 'whats', 'shut', 'pointless', 'dresden', 'margaret', 'tracy', 'gorillaz', 'incubus', 'sagan', 'cuz', 'includes', 'lawrence', 'arabia', 'strokes', 'doc', 'stations', 'tape', 'noodles', 'screw', 'suits', 'neck', 'productive', 'ad', 'connections', 'paintings', 'laundry', 'breathe', 'partial', 'avoiding', 'mate', 'dawn', 'handsome', 'original', 'received', 'illuminated', 'mail', 'curry', 'frozen', 'dental', 'floss', 'amusing', 'considering', 'shapes', 'intensity', 'curves', 'relative', 'mysterious', 'attraction', 'networking', 'late', 'gps', 'spoken', 'en', 'org', 'wiki', 'leading', 'adapt', 'nurturing', 'generic', 'roles', 'addition', 'feeding', 'silent', 'occasions', 'quantum', 'india', 'absolute', 'condition', 'spy', 'unicorns', 'browsing', 'crying', 'pounds', 'bucket', 'salty', 'tears', 'turkey', 'starbucks', 'funniest', 'happened', 'wasted', 'ur', 'roommate', 'uc', 'berkeley', 'settled', 'los', 'angeles', 'computers', 'hahaha', 'fond', 'jesus', 'kitty', 'dvd', 'wtf', 'table', 'piercings', 'novel', 'developed', 'technically', 'storm', 'ill', 'plastic', 'swing', 'tango', 'enders', 'shadow', 'scenes', 'adele', 'colleagues', 'recognize', 'barely', 'bald', 'colored', 'wizard', 'hat', 'tiger', 'fourth', 'doesnt', 'fellow', 'puzzle', 'settlers', 'analytical', 'sides', 'monster', 'shaped', 'supplies', 'hits', 'gilmore', 'xkcd', 'intellectually', 'expressions', 'junkie', 'jose', 'hardcore', 'athletic', 'schedule', 'thumb', 'ho', 'boobs', 'kicks', 'steal', 'remind', 'phil', 'ac', 'dc', 'glitch', 'chemical', 'pee', 'dorky', 'ambitions', 'title', 'dollars', 'fifth', 'element', 'capital', 'lewis', 'debt', 'ridiculously', 'cameras', 'editing', 'outliers', 'incident', 'dedicated', 'bullet', 'belle', 'sebastian', 'technical', 'mechanical', 'ship', 'score', 'corn', 'unknown', 'daddy', 'individuals', 'decade', 'mediocre', 'seuss', 'ham', 'arms', 'shoulders', 'consulting', 'eyed', 'asia', 'revolutionary', 'yrs', 'therapist', 'healing', 'require', 'standards', 'verbal', 'crafty', 'alt', 'gal', 'activism', 'consciousness', 'thesis', 'activist', 'warmth', 'thousands', 'faves', 'zero', 'ella', 'carolina', 'gluten', 'veggies', 'omg', 'kinky', 'steps', 'bold', 'ers', 'beings', 'priority', 'join', 'casual', 'kindness', 'gentle', 'hmmmm', 'proof', 'pure', 'procrastinating', 'formal', 'responses', 'baked', 'realizing', 'tron', 'fox', 'material', 'homework', 'popular', 'host', 'nearby', 'queen', 'yay', 'argument', 'response', 'england', 'pretentious', 'dude', 'thoroughly', 'atheist', 'undergrad', 'lovely', 'massages', 'receive', 'required', 'author', 'begins', 'hummus', 'tequila', 'brilliant', 'grill', 'trade', 'journals', 'sunsets', 'gattaca', 'stargate', 'smashing', 'owl', 'rilo', 'kiley', 'mass', 'videogames', 'somebody', 'goldfrapp', 'lashes', 'einstein', 'unwind', 'bikram', 'oops', 'franciscan', 'employed', 'divorced', 'substance', 'l', 'results', 'vary', 'noises', 'equipment', 'loyalty', 'emergency', 'texts', 'douglas', 'adams', 'nd', 'frankenstein', 'significant', 'describes', 'allow', 'capacity', 'poor', 'choices', 'practices', 'steam', 'pr', 'rounded', 'skeptical', 'holes', 'ingredients', 'ease', 'keen', 'bus', 'arguments', 'petty', 'naps', 'apart', 'cutting', 'spring', 'marriage', 'plot', 'heartbreaking', 'staggering', 'magnolia', 'fargo', 'annie', 'goodfellas', 'rushmore', 'alien', 'barefoot', 'fat', 'gypsy', 'daniel', 'cole', 'ali', 'khan', 'pavement', 'cudi', 'evolving', 'adapting', 'lecture', 'dvr', 'temple', 'redwood', 'religious', 'discussions', 'numerous', 'charlie', 'rise', 'flag', 'wacky', 'demeanor', 'slumdog', 'millionaire', 'veronica', 'dolls', 'wicked', 'q', 'assume', 'attached', 'crush', 'porn', 'winter', 'carefree', 'ace', 'anti', 'fighter', 'toys', 'desires', 'mba', 'june', 'trustworthy', 'filled', 'dressed', 'flexibility', 'cheap', 'vietnam', 'ireland', 'spain', 'italy', 'socal', 'benefits', 'bull', 'hollywood', 'crowds', 'hurts', 'phase', 'phillip', 'spirituality', 'menu', 'youthful', 'plant', 'medicine', 'psychedelic', 'honor', 'therapy', 'junk', 'global', 'fetish', 'successful', 'eager', 'laughs', 'sensuality', 'turning', 'frisbee', 'reserved', 'playlist', 'rotation', 'florence', 'decision', 'appear', 'consultant', 'certified', 'twelve', 'gamer', 'bradbury', 'paradiso', 'final', 'bsg', 'eureka', 'fleetwood', 'police', 'def', 'duran', 'afro', 'soundtracks', 'brazilian', 'steak', 'philosophical', 'discussion', 'status', 'modeling', 'gregarious', 'inspiring', 'burner', 'inspiration', 'yard', 'personally', 'adults', 'electricity', 'instance', 'smiley', 'snuggling', 'scare', 'flavors', 'bubble', 'enemy', 'petite', 'previous', 'introduced', 'pressure', 'notorious', 'perks', 'wallflower', 'holidays', 'notes', 'gotye', 'kills', 'montreal', 'marley', 'toast', 'estate', 'effective', 'produced', 'accounting', 'buff', 'suspense', 'teenager', 'regular', 'bugs', 'bother', 'washing', 'machines', 'tuesday', 'crossword', 'backpack', 'eden', 'hornby', 'diaries', 'fidelity', 'shaun', 'fictional', 'daughter', 'retirement', 'chapter', 'designs', 'memoirs', 'geisha', 'fluent', 'vacations', 'contemplating', 'tipping', 'underground', 'motown', 'meals', 'intimacy', 'northwest', 'franz', 'martini', 'stones', 'ross', 'cab', 'cutie', 'awake', 'te', 'rules', 'curled', 'prestige', 'jurassic', 'casino', 'portion', 'album', 'consists', 'attend', 'sales', 'lesson', 'oddly', 'hustle', 'whoever', 'shake', 'tail', 'civil', 'millions', 'ive', 'holistic', 'gin', 'mess', 'shantaram', 'brad', 'brand', 'crows', 'fries', 'wander', 'continuing', 'held', 'beef', 'potatoes', 'jogging', 'corps', 'flies', 'zealand', 'prior', 'heads', 'makeup', 'ongoing', 'primary', 'workin', 'nom', 'nutrition', 'huh', 'compared', 'journalism', 'richard', 'realistic', 'trio', 'mon', 'carried', 'israel', 'moral', 'actors', 'treating', 'task', 'privacy', 'necessarily', 'sincerity', 'combined', 'phrase', 'circumstances', 'divine', 'feminine', 'skip', 'strike', 'sub', 'crowded', 'pub', 'confused', 'differences', 'invite', 'mutually', 'firm', 'russia', 'settings', 'tends', 'nbsp', 'sketch', 'cherry', 'newly', 'acquired', 'prone', 'monogamy', 'excitement', 'tune', 'bbc', 'wii', 'showing', 'lolita', 'amy', 'savage', 'autobiography', 'wee', 'mitchell', 'adam', 'curtis', 'pixies', 'gospel', 'follows', 'warrior', 'yup', 'sensitive', 'shock', 'sharks', 'lamb', 'duck', 'cow', 'bedroom', 'paragraph', 'hipsters', 'pass', 'precious', 'idiot', 'shopping', 'cognitive', 'pals', 'production', 'economist', 'rule', 'embarrassed', 'tolerate', 'apply', 'mann', 'retire', 'dust', 'deciding', 'transfer', 'perceptive', 'eyre', 'watcher', 'diary', 'recipe', 'crooked', 'coach', 'pursuing', 'venues', 'ran', 'entrepreneurial', 'canadian', 'minutes', 'taller', 'helpful', 'purple', 'rose', 'gabriel', 'garcia', 'allende', 'nyt', 'clock', 'alarm', 'sporting', 'socialize', 'dropped', 'rivers', 'talker', 'sarah', 'breaker', 'flops', 'ear', 'dependable', 'throwing', 'steady', 'snl', 'patsy', 'cline', 'sabbath', 'sixth', 'safe', 'ohio', 'crossing', 'dessert', 'depend', 'pun', 'convince', 'toy', 'boarding', 'advance', 'academy', 'marvel', 'spider', 'avengers', 'traditional', 'bizarre', 'pirate', 'practically', 'gettin', 'hesse', 'camus', 'nabokov', 'pat', 'salinger', 'hundreds', 'dvds', 'vocal', 'trance', 'burmese', 'sassy', 'rural', 'itunes', 'races', 'marathons', 'cherish', 'grocery', 'academic', 'nephew', 'stops', 'passing', 'compass', 'fighting', 'linkin', 'newer', 'conchords', 'symphony', 'parenthood', 'wink', 'globe', 'grey', 'tina', 'titanic', 'knight', 'usher', 'ft', 'beyonce', 'texas', 'shrimp', 'chip', 'lobster', 'pot', 'salads', 'fruits', 'aunt', 'thankful', 'ppl', 'patients', 'hung', 'stronger', 'thou', 'december', 'counselor', 'yum', 'cuddle', 'nurse', 'joined', 'ticket', 'dates', 'explaining', 'queens', 'sally', 'roasted', 'stir', 'communicate', 'tear', 'messy', 'farmers', 'nursing', 'engaged', 'homes', 'satisfaction', 'hemingway', 'ending', 'copy', 'mos', 'marvin', 'unexpected', 'sunscreen', 'brains', 'messaging', 'risk', 'gentlemen', 'mmmm', 'writers', 'patti', 'rem', 'motivation', 'peaches', 'oxford', 'eyebrows', 'suit', 'straightforward', 'whose', 'expense', 'elvis', 'costello', 'edith', 'jr', 'willie', 'von', 'profits', 'relations', 'nasty', 'caffeine', 'instrument', 'essential', 'bi', 'portuguese', 'belief', 'bath', 'balanced', 'avocados', 'pillows', 'schools', 'loss', 'biggest', 'fiercely', 'punctuation', 'intention', 'facial', 'accepted', 'grisham', 'recall', 'juno', 'nemo', 'continued', 'addict', 'examples', 'justin', 'foundation', 'phones', 'pics', 'trait', 'spaghetti', 'weakness', 'married', 'mature', 'joining', 'review', 'distracted', 'edge', 'strawberries', 'dangerous', 'parent', 'lifelong', 'knocked', 'grateful', 'floating', 'mainly', 'oil', 'conservative', 'macbook', 'spread', 'mononoke', 'buildings', 'midwestern', 'wont', 'financial', 'skilled', 'numbers', 'depressing', 'slice', 'department', 'aggressive', 'upbeat', 'calls', 'exception', 'kafka', 'hitchhikers', 'girly', 'barbara', 'kingsolver', 'writes', 'sign', 'compatible', 'multi', 'transition', 'blink', 'lift', 'weights', 'item', 'crafting', 'winehouse', 'allows', 'dazed', 'pineapple', 'fuzz', 'scotland', 'rate', 'sane', 'carry', 'engaging', 'greatly', 'mario', 'double', 'publishing', 'con', 'lbs', 'dot', 'jewelry', 'highest', 'iii', 'indiana', 'ghostbusters', 'tivo', 'essay', 'grandma', 'degrees', 'timing', 'saved', 'pitch', 'desk', 'monkey', 'wrath', 'sierra', 'miracle', 'lars', 'shorter', 'washington', 'aretha', 'pesto', 'climate', 'barry', 'tomato', 'broke', 'cast', 'terribly', 'exceptions', 'communicator', 'admitted', 'informed', 'chips', 'retired', 'leisure', 'keyboard', 'tuesdays', 'extraordinary', 'earlier', 'observing', 'branch', 'kurosawa', 'debussy', 'lovin', 'turtles', 'afterwards', 'boundaries', 'dim', 'initially', 'trusting', 'happiest', 'ferry', 'senses', 'labels', 'shadows', 'aesthetic', 'voracious', 'cookbooks', 'reference', 'imogen', 'heap', 'patrol', 'matthews', 'stopped', 'cocky', 'discovered', 'squeeze', 'location', 'huxley', 'iggy', 'rubs', 'anchorman', 'resting', 'cd', 'noticing', 'imaginative', 'executive', 'follow', 'speech', 'transformers', 'broccoli', 'ivy', 'boss', 'recording', 'interior', 'decorating', 'exit', 'jar', 'embracing', 'cummings', 'length', 'neverending', 'joni', 'butch', 'maiden', 'ages', 'warning', 'categories', 'african', 'phases', 'superhero', 'identity', 'engage', 'preparing', 'das', 'psycho', 'bassnectar', 'pj', 'tracks', 'urge', 'apologize', 'pianist', 'hardworking', 'aka', 'shots', 'sufficient', 'demons', 'resident', 'underworld', 'lion', 'miami', 'oasis', 'tommy', 'peas', 'legend', 'alicia', 'sade', 'maroon', 'douche', 'kicking', 'prison', 'brought', 'worldly', 'regarding', 'roy', 'rumi', 'breath', 'spill', 'egg', 'kerouac', 'redhead', 'natives', 'nut', 'seemed', 'press', 'release', 'classy', 'financially', 'fare', 'leader', 'grandmother', 'florida', 'package', 'jill', 'lauryn', 'nas', 'kanye', 'talib', 'endeavors', 'lifetime', 'teenagers', 'believing', 'lasagna', 'clapton', 'norah', 'franklin', 'rihanna', 'salmon', 'spinach', 'anarchy', 'csi', 'applied', 'flick', 'chivalry', 'staff', 'crisis', 'accomplish', 'wonders', 'childish', 'painful', 'divorce', 'talks', 'rainbow', 'alaska', 'papers', 'posted', 'crafts', 'peeps', 'ska', 'garage', 'freaks', 'geeks', 'shameless', 'volume', 'consume', 'tasting', 'rises', 'mat', 'pit', 'cupcakes', 'lip', 'balm', 'kaskade', 'lupe', 'fiasco', 'peaceful', 'redwoods', 'joys', 'hosting', 'expressing', 'awe', 'flower', 'rabbit', 'waffles', 'zappa', 'erykah', 'badu', 'outkast', 'screaming', 'greens', 'bartender', 'worthy', 'sophisticated', 'provides', 'toni', 'ayn', 'rand', 'compelling', 'steely', 'maher', 'elsewhere', 'stint', 'fans', 'mythbusters', 'cost', 'benefit', 'solution', 'democracy', 'replace', 'ukulele', 'teens', 'services', 'lounging', 'valuable', 'block', 'seemingly', 'capture', 'hardly', 'darn', 'contribute', 'options', 'expressive', 'aim', 'finger', 'impress', 'secure', 'dynamic', 'impact', 'factory', 'weekly', 'sample', 'clients', 'skating', 'introspective', 'treated', 'rafting', 'vibrant', 'basics', 'pillow', 'immediate', 'ribs', 'penchant', 'suddenly', 'closed', 'indoor', 'killer', 'argue', 'id', 'perception', 'progress', 'january', 'tour', 'mask', 'esoteric', 'ching', 'decompressing', 'perfume', 'oven', 'bobby', 'bonnie', 'eddie', 'rage', 'garfunkel', 'sin', 'hazel', 'fahrenheit', 'chronicles', 'elements', 'mischievous', 'dickens', 'leaning', 'boards', 'oliver', 'agreements', 'betty', 'mighty', 'scenery', 'troopers', 'hobbit', 'danger', 'rome', 'louie', 'dragons', 'tickets', 'eleven', 'fountainhead', 'slaughterhouse', 'squash', 'latter', 'karenina', 'sashimi', 'cafes', 'beaten', 'pilates', 'gourmet', 'juggling', 'witted', 'wondrous', 'respectful', 'mc', 'nyc', 'paulo', 'lemon', 'orchestra', 'roman', 'belong', 'harvey', 'buffalo', 'palo', 'dinners', 'mundane', 'broad', 'drake', 'ramones', 'singers', 'tengo', 'woolf', 'westerns', 'flavor', 'nanny', 'bitch', 'jealous', 'grilled', 'crab', 'garlic', 'reminds', 'rainy', 'eggplant', 'joel', 'monogamous', 'alexander', 'grunge', 'jonathan', 'youtu', 'partying', 'vendetta', 'mindful', 'fierce', 'neighborhood', 'meditating', 'accomplished', 'nuts', 'birth', 'tonight', 'alright', 'au', 'stuffed', 'bunny', 'galleries', 'collected', 'disease', 'experienced', 'buddha', 'buddhist', 'monsters', 'calvin', 'hobbes', 'teams', 'credit', 'intend', 'tiffany', 'journalist', 'myth', 'waves', 'polyamory', 'margarita', 'rear', 'flat', 'per', 'chelsea', 'violent', 'femmes', 'flew', 'cuckoo', 'nest', 'raging', 'jackie', 'disappointed', 'renaissance', 'ethical', 'flirting', 'unconventional', 'anime', 'fortune', 'relaxation', 'pollan', 'tolle', 'gilberto', 'window', 'rolls', 'trivial', 'freckles', 'cookie', 'snoop', 'pre', 'username', 'mistake', 'manners', 'analyst', 'dollhouse', 'atlanta', 'traits', 'reasonably', 'manual', 'stanley', 'environments', 'newspapers', 'ford', 'hyper', 'solve', 'glory', 'provided', 'isaac', 'legends', 'collar', 'brick', 'neighborhoods', 'presents', 'satisfying', 'atlantic', 'wong', 'striking', 'secretary', 'du', 'mmm', 'disneyland', 'bridesmaids', 'violin', 'snacks', 'quirks', 'scale', 'surviving', 'rugby', 'girlfriends', 'balancing', 'oregon', 'admittedly', 'bone', 'russell', 'slim', 'producer', 'image', 'deals', 'bloody', 'founded', 'striving', 'heinlein', 'selfish', 'gene', 'confessions', 'scissor', 'fountain', 'disposition', 'default', 'preference', 'pad', 'baggage', 'sting', 'burger', 'aspiring', 'shoe', 'repair', 'hint', 'thursday', 'evolve', 'hometown', 'surprisingly', 'terminator', 'furry', 'discipline', 'leaf', 'negative', 'biography', 'polite', 'choke', 'beast', 'confidential', 'deftones', 'elton', 'lcd', 'soundsystem', 'skinny', 'moderation', 'narrow', 'instruments', 'vodka', 'napping', 'tosh', 'overseas', 'stanford', 'manhattan', 'mi', 'summers', 'grilling', 'gods', 'groundhog', 'mildly', 'op', 'cuban', 'egypt', 'parenting', 'emo', 'cerebral', 'wishing', 'insane', 'circles', 'knee', 'ne', 'communicative', 'demanding', 'analysis', 'resume', 'tables', 'textbooks', 'nerds', 'amongst', 'fry', 'catches', 'mixes', 'dub', 'recommended', 'bachelors', 'finance', 'minor', 'tight', 'yesterday', 'loop', 'produce', 'je', 'swan', 'spin', 'raiders', 'harris', 'chromeo', 'flash', 'smooth', 'kim', 'gaye', 'mel', 'ratatat', 'base', 'trans', 'nation', 'players', 'sharon', 'sexually', 'learner', 'correctly', 'consumer', 'til', 'impressions', 'pig', 'korea', 'drove', 'monte', 'apps', 'skrillex', 'finer', 'goof', 'jewish', 'nba', 'insight', 'firmly', 'chair', 'commercial', 'chappelle', 'phish', 'dialogue', 'indeed', 'experiment', 'mechanics', 'distant', 'persian', 'unfortunate', 'joint', 'opinionated', 'differently', 'ryan', 'survivor', 'sociable', 'santana', 'calendar', 'communities', 'feminist', 'maintaining', 'defense', 'lakes', 'court', 'experimenting', 'satisfied', 'gravity', 'dash', 'sipping', 'amounts', 'elaborate', 'tied', 'emails', 'orleans', 'crashing', 'rex', 'resonates', 'suffering', 'struggle', 'explorer', 'select', 'detective', 'rocky', 'upside', 'app', 'sfsu', 'sexuality', 'cristo', 'devices', 'associated', 'forum', 'members', 'bitter', 'giggle', 'craving', 'bubbly', 'drag', 'favs', 'torchwood', 'skins', 'housing', 'boot', 'exhibit', 'guest', 'gathering', 'ltr', 'wanderlust', 'robinson', 'valentine', 'catholic', 'partnership', 'tolerant', 'surroundings', 'accident', 'superman', 'lean', 'chinatown', 'guacamole', 'shakes', 'luis', 'chose', 'investment', 'sailboat', 'tapas', 'polish', 'sciences', 'summaries', 'alas', 'forgive', 'foremost', 'directly', 'disclaimer', 'memorable', 'onions', 'selection', 'affinity', 'selling', 'geeking', 'delight', 'encouraging', 'models', 'foo', 'fighters', 'braveheart', 'labor', 'completed', 'normally', 'prada', 'scarface', 'brag', 'built', 'olive', 'info', 'lively', 'harmony', 'possess', 'acceptance', 'lightness', 'skate', 'stopping', 'articulate', 'elegant', 'audience', 'thief', 'ratatouille', 'smoker', 'leo', 'morrissey', 'observant', 'etta', 'se', 'stream', 'sail', 'filter', 'anger', 'emotion', 'separate', 'concrete', 'grin', 'wilfred', 'panda', 'um', 'dogma', 'stability', 'radical', 'bore', 'privilege', 'pc', 'sigh', 'portrait', 'dorian', 'tolstoy', 'rising', 'budget', 'instant', 'article', 'shaking', 'robyn', 'racist', 'kink', 'meow', 'enthusiastic', 'femme', 'pm', 'sanity', 'ends', 'triathlon', 'sideways', 'entertain', 'thompson', 'capitalism', 'nfl', 'culinary', 'knives', 'irreverent', 'albert', 'bliss', 'entrepreneurship', 'karma', 'smelling', 'quoting', 'truman', 'oatmeal', 'distances', 'badminton', 'businesses', 'acceptable', 'coelho', 'vegetable', 'carey', 'mindfulness', 'tupac', 'biggie', 'fanatic', 'burton', 'ween', 'ugh', 'cups', 'oates', 'streaming', 'windows', 'shift', 'ellis', 'broadway', 'pedro', 'minus', 'bonobo', 'filipino', 'fed', 'earn', 'pete', 'geography', 'attentive', 'sorta', 'reservoir', 'danny', 'appealing', 'centered', 'interacting', 'barcelona', 'myers', 'soy', 'ipa', 'wildly', 'pays', 'openly', 'deer', 'awesomeness', 'internship', 'license', 'sword', 'preferences', 'biological', 'twist', 'smash', 'cigarettes', 'dinosaur', 'adjectives', 'houston', 'essence', 'passionately', 'shoulder', 'balls', 'rope', 'chapstick', 'died', 'continents', 'fortunately', 'woo', 'miyazaki', 'dostoevsky', 'served', 'cruise', 'naughty', 'marine', 'survival', 'irving', 'dine', 'andre', 'moneyball', 'athlete', 'picnics', 'muppet', 'geographic', 'newspaper', 'dictionary', 'reflective', 'snarky', 'cliff', 'laughed', 'amon', 'lotus', 'fugazi', 'jimi', 'lou', 'reed', 'volta', 'cds', 'texting', 'statement', 'zombieland', 'hardest', 'motto', 'spotify', 'bomb', 'wonderland', 'mafia', 'hiv', 'horn', 'sexual', 'shaved', 'signed', 'joyce', 'hughes', 'editor', 'grit', 'ian', 'liars', 'clueless', 'amazingly', 'upset', 'intensely', 'celebrate', 'named', 'sparkling', 'stereo', 'tofu', 'claim', 'tiesto', 'coding', 'november', 'bruno', 'justified', 'akira', 'rip', 'testing', 'tenacious', 'bdsm', 'cello', 'celtic', 'drumming', 'eh', 'warren', 'amazon', 'downs', 'surrounding', 'lipstick', 'skateboard', 'graffiti', 'dresses', 'gangster', 'taxi', 'rnb', 'britney', 'spears', 'scream', 'greece', 'mrs', 'communications', 'avett', 'fran', 'interact', 'celebrity', 'owned', 'september', 'careful', 'knock', 'edible', 'willingness', 'frankly', 'alto', 'spoiled', 'sucked', 'hank', 'julia', 'versus', 'inspires', 'unlike', 'shallow', 'contagious', 'eminem', 'infectious', 'tests', 'beating', 'panic', 'sappy', 'cholera', 'strikes', 'backwards', 'enter', 'commercials', 'basterds', 'benjamin', 'lifting', 'occupy', 'yards', 'boyfriend', 'clinic', 'parade', 'glorious', 'edm', 'herman', 'refer', 'superficial', 'dinosaurs', 'dropping', 'tricks', 'sized', 'lesbian', 'illustration', 'hayao', 'punishment', 'getaway', 'prophet', 'ishmael', 'pac', 'neon', 'packed', 'tips', 'html', 'tourist', 'damned', 'arctic', 'stairs', 'dawkins', 'ranges', 'jitterbug', 'internationally', 'quietly', 'exact', 'surgery', 'baroque', 'sprouts', 'yogurt', 'poverty', 'ph', 'warehouse', 'permanent', 'brush', 'spontaneously', 'platonic', 'arrived', 'kicked', 'songwriter', 'pancakes', 'mango', 'larger', 'fascination', 'dramatic', 'clan', 'pens', 'feminism', 'nietzsche', 'kingdom', 'teddy', 'sriracha', 'baths', 'tallest', 'highway', 'travelled', 'beneath', 'heavily', 'inglorious', 'chasing', 'turkish', 'slut', 'skateboarding', 'combo', 'michigan', 'booze', 'choir', 'session', 'scorsese', 'blackberry', 'pies', 'tetris', 'scissorhands', 'purse', 'meetings', 'procrastination', 'sweets', 'costumes', 'lykke', 'affect', 'siblings', 'silversun', 'pickups', 'karate', 'extent', 'mathematics', 'adventuring', 'tng', 'wealth', 'priorities', 'reflecting', 'cilantro', 'wainwright', 'christina', 'catan', 'walked', 'buds', 'wao', 'drinker', 'pratchett', 'olives', 'dull', 'institute', 'espn', 'nightmares', 'thru', 'photoshop', 'nail', 'encourage', 'crossfit', 'unhealthy', 'sew', 'mermaid', 'meu'])"
      ]
     },
     "execution_count": 36,
     "metadata": {},
     "output_type": "execute_result"
    }
   ],
   "source": [
    "bag_of_words.keys()"
   ]
  },
  {
   "cell_type": "code",
   "execution_count": 38,
   "metadata": {},
   "outputs": [],
   "source": [
    "essay = np.asarray(essay_profile).astype(float)\n",
    "essayDF = pd.DataFrame(data= essay, columns=list(bag_of_words.keys()))\n"
   ]
  },
  {
   "cell_type": "code",
   "execution_count": 39,
   "metadata": {},
   "outputs": [
    {
     "data": {
      "text/plain": [
       "<bound method NDFrame.head of        would  love  think  kind  intellectual  either  smart  guy  dumb  say  \\\n",
       "0        2.0   4.0    1.0   1.0           1.0     1.0    1.0  2.0   1.0  1.0   \n",
       "1        0.0   4.0    0.0   1.0           0.0     0.0    1.0  1.0   0.0  0.0   \n",
       "2        0.0   1.0    1.0   1.0           1.0     0.0    0.0  0.0   0.0  1.0   \n",
       "3        0.0   0.0    0.0   0.0           0.0     0.0    0.0  0.0   0.0  0.0   \n",
       "4        0.0   0.0    0.0   0.0           0.0     0.0    0.0  0.0   0.0  0.0   \n",
       "5        1.0   5.0    4.0   0.0           0.0     0.0    0.0  0.0   0.0  2.0   \n",
       "6        1.0   4.0    0.0   0.0           0.0     0.0    0.0  0.0   0.0  0.0   \n",
       "7        0.0   0.0    0.0   0.0           0.0     0.0    0.0  0.0   0.0  0.0   \n",
       "8        0.0   3.0    1.0   1.0           0.0     0.0    0.0  0.0   0.0  0.0   \n",
       "9        1.0   8.0    0.0   0.0           0.0     0.0    0.0  1.0   0.0  2.0   \n",
       "10       1.0   6.0    1.0   0.0           0.0     1.0    0.0  0.0   0.0  0.0   \n",
       "11       2.0   3.0    2.0   2.0           0.0     0.0    0.0  2.0   0.0  1.0   \n",
       "12       0.0   0.0    0.0   0.0           0.0     0.0    0.0  0.0   0.0  0.0   \n",
       "13       0.0   0.0    0.0   0.0           0.0     0.0    0.0  0.0   0.0  0.0   \n",
       "14       0.0   5.0    1.0   0.0           0.0     0.0    0.0  0.0   0.0  0.0   \n",
       "15       0.0   0.0    0.0   0.0           0.0     0.0    0.0  0.0   0.0  0.0   \n",
       "16       1.0   1.0    1.0   1.0           0.0     0.0    0.0  1.0   0.0  0.0   \n",
       "17       0.0   3.0    1.0   0.0           0.0     0.0    0.0  1.0   0.0  3.0   \n",
       "18       0.0   4.0    0.0   1.0           0.0     0.0    0.0  1.0   0.0  0.0   \n",
       "19       0.0   2.0    0.0   0.0           0.0     0.0    0.0  0.0   0.0  0.0   \n",
       "20       1.0   2.0    1.0   0.0           0.0     0.0    0.0  0.0   0.0  0.0   \n",
       "21       0.0   1.0    0.0   0.0           0.0     0.0    0.0  0.0   0.0  0.0   \n",
       "22       0.0   1.0    1.0   1.0           0.0     0.0    0.0  1.0   0.0  0.0   \n",
       "23       0.0   2.0    0.0   0.0           0.0     0.0    0.0  0.0   0.0  0.0   \n",
       "24       0.0   0.0    3.0   0.0           0.0     0.0    0.0  0.0   1.0  1.0   \n",
       "25       1.0   1.0    2.0   0.0           0.0     0.0    0.0  2.0   1.0  1.0   \n",
       "26       0.0   3.0    0.0   0.0           0.0     0.0    0.0  0.0   0.0  0.0   \n",
       "27       0.0   2.0    0.0   0.0           0.0     0.0    0.0  1.0   0.0  0.0   \n",
       "28       2.0   5.0    0.0   1.0           1.0     0.0    1.0  1.0   0.0  0.0   \n",
       "29       0.0   4.0    0.0   1.0           0.0     0.0    0.0  0.0   0.0  2.0   \n",
       "...      ...   ...    ...   ...           ...     ...    ...  ...   ...  ...   \n",
       "59916    0.0   1.0    0.0   0.0           0.0     0.0    1.0  0.0   0.0  0.0   \n",
       "59917    0.0   0.0    0.0   0.0           0.0     0.0    0.0  0.0   0.0  0.0   \n",
       "59918    0.0   7.0    5.0   1.0           0.0     0.0    0.0  0.0   0.0  0.0   \n",
       "59919    0.0   3.0    0.0   1.0           0.0     0.0    1.0  0.0   0.0  2.0   \n",
       "59920    0.0   0.0    0.0   0.0           0.0     0.0    0.0  0.0   0.0  0.0   \n",
       "59921    2.0   4.0    1.0   0.0           0.0     0.0    0.0  1.0   0.0  2.0   \n",
       "59922    0.0   0.0    1.0   1.0           0.0     1.0    1.0  0.0   0.0  0.0   \n",
       "59923    1.0   2.0    1.0   0.0           0.0     0.0    0.0  1.0   0.0  0.0   \n",
       "59924    0.0   0.0    0.0   0.0           0.0     0.0    0.0  0.0   0.0  0.0   \n",
       "59925    1.0   1.0    0.0   0.0           0.0     0.0    0.0  0.0   0.0  1.0   \n",
       "59926    0.0   0.0    0.0   0.0           0.0     0.0    0.0  0.0   0.0  0.0   \n",
       "59927    4.0   3.0    0.0   0.0           0.0     0.0    0.0  0.0   0.0  2.0   \n",
       "59928    1.0   1.0    1.0   0.0           0.0     0.0    0.0  2.0   0.0  0.0   \n",
       "59929    0.0   0.0    3.0   0.0           0.0     0.0    0.0  0.0   0.0  0.0   \n",
       "59930    0.0   0.0    0.0   0.0           0.0     0.0    0.0  0.0   0.0  0.0   \n",
       "59931    0.0   2.0    0.0   0.0           0.0     0.0    0.0  1.0   0.0  0.0   \n",
       "59932    0.0   0.0    0.0   1.0           0.0     0.0    0.0  0.0   0.0  0.0   \n",
       "59933    0.0   3.0    0.0   0.0           0.0     0.0    1.0  0.0   0.0  0.0   \n",
       "59934    0.0   3.0    0.0   1.0           0.0     0.0    0.0  0.0   0.0  0.0   \n",
       "59935    0.0   4.0    0.0   0.0           0.0     1.0    0.0  0.0   0.0  0.0   \n",
       "59936    0.0   0.0    0.0   0.0           0.0     0.0    0.0  0.0   0.0  0.0   \n",
       "59937    0.0   0.0    2.0   0.0           0.0     0.0    1.0  0.0   0.0  0.0   \n",
       "59938    0.0   6.0    2.0   0.0           0.0     0.0    0.0  0.0   0.0  1.0   \n",
       "59939    0.0   3.0    3.0   0.0           0.0     0.0    0.0  2.0   0.0  1.0   \n",
       "59940    3.0   3.0    1.0   0.0           0.0     1.0    0.0  0.0   0.0  2.0   \n",
       "59941    0.0   2.0    0.0   1.0           0.0     0.0    0.0  0.0   0.0  0.0   \n",
       "59942    0.0   0.0    0.0   0.0           0.0     0.0    0.0  0.0   0.0  0.0   \n",
       "59943    1.0   0.0    2.0   0.0           0.0     0.0    1.0  0.0   0.0  0.0   \n",
       "59944    2.0   2.0    1.0   0.0           0.0     2.0    0.0  0.0   0.0  1.0   \n",
       "59945    0.0   6.0    2.0   0.0           0.0     1.0    0.0  3.0   0.0  0.0   \n",
       "\n",
       "       ...  nightmares  thru  photoshop  nail  encourage  crossfit  unhealthy  \\\n",
       "0      ...         0.0   0.0        0.0   0.0        0.0       0.0        0.0   \n",
       "1      ...         0.0   0.0        0.0   0.0        0.0       0.0        0.0   \n",
       "2      ...         0.0   0.0        0.0   0.0        0.0       0.0        0.0   \n",
       "3      ...         0.0   0.0        0.0   0.0        0.0       0.0        0.0   \n",
       "4      ...         0.0   0.0        0.0   0.0        0.0       0.0        0.0   \n",
       "5      ...         0.0   0.0        0.0   0.0        0.0       0.0        0.0   \n",
       "6      ...         0.0   0.0        0.0   0.0        0.0       0.0        0.0   \n",
       "7      ...         0.0   0.0        0.0   0.0        0.0       0.0        0.0   \n",
       "8      ...         0.0   0.0        0.0   0.0        0.0       0.0        0.0   \n",
       "9      ...         0.0   0.0        0.0   0.0        0.0       0.0        0.0   \n",
       "10     ...         0.0   0.0        0.0   0.0        0.0       0.0        0.0   \n",
       "11     ...         0.0   0.0        0.0   0.0        0.0       0.0        0.0   \n",
       "12     ...         0.0   0.0        0.0   0.0        0.0       0.0        0.0   \n",
       "13     ...         0.0   0.0        0.0   0.0        0.0       0.0        0.0   \n",
       "14     ...         0.0   0.0        0.0   0.0        0.0       0.0        0.0   \n",
       "15     ...         0.0   0.0        0.0   0.0        0.0       0.0        0.0   \n",
       "16     ...         0.0   0.0        0.0   0.0        0.0       0.0        0.0   \n",
       "17     ...         0.0   0.0        0.0   0.0        0.0       0.0        0.0   \n",
       "18     ...         0.0   0.0        0.0   0.0        0.0       0.0        0.0   \n",
       "19     ...         0.0   0.0        0.0   0.0        0.0       0.0        0.0   \n",
       "20     ...         0.0   0.0        0.0   0.0        0.0       0.0        0.0   \n",
       "21     ...         0.0   0.0        0.0   0.0        0.0       0.0        0.0   \n",
       "22     ...         0.0   0.0        0.0   0.0        0.0       0.0        0.0   \n",
       "23     ...         0.0   0.0        0.0   0.0        0.0       0.0        0.0   \n",
       "24     ...         0.0   0.0        0.0   0.0        0.0       0.0        0.0   \n",
       "25     ...         0.0   0.0        0.0   0.0        0.0       0.0        0.0   \n",
       "26     ...         0.0   0.0        0.0   0.0        0.0       0.0        0.0   \n",
       "27     ...         0.0   0.0        0.0   0.0        0.0       0.0        0.0   \n",
       "28     ...         0.0   0.0        0.0   0.0        0.0       0.0        0.0   \n",
       "29     ...         0.0   0.0        0.0   0.0        0.0       0.0        0.0   \n",
       "...    ...         ...   ...        ...   ...        ...       ...        ...   \n",
       "59916  ...         0.0   0.0        0.0   0.0        0.0       0.0        0.0   \n",
       "59917  ...         0.0   0.0        0.0   0.0        0.0       0.0        0.0   \n",
       "59918  ...         0.0   0.0        0.0   0.0        0.0       0.0        0.0   \n",
       "59919  ...         0.0   0.0        0.0   0.0        0.0       0.0        0.0   \n",
       "59920  ...         0.0   0.0        0.0   0.0        0.0       0.0        0.0   \n",
       "59921  ...         0.0   0.0        0.0   0.0        0.0       0.0        0.0   \n",
       "59922  ...         0.0   0.0        0.0   0.0        0.0       0.0        0.0   \n",
       "59923  ...         0.0   0.0        0.0   0.0        0.0       0.0        0.0   \n",
       "59924  ...         0.0   0.0        0.0   0.0        0.0       0.0        0.0   \n",
       "59925  ...         0.0   0.0        0.0   0.0        0.0       0.0        0.0   \n",
       "59926  ...         0.0   0.0        0.0   0.0        0.0       0.0        0.0   \n",
       "59927  ...         0.0   0.0        0.0   0.0        0.0       0.0        0.0   \n",
       "59928  ...         0.0   0.0        0.0   0.0        0.0       0.0        0.0   \n",
       "59929  ...         0.0   0.0        0.0   0.0        0.0       0.0        0.0   \n",
       "59930  ...         0.0   0.0        0.0   0.0        0.0       0.0        0.0   \n",
       "59931  ...         0.0   0.0        0.0   0.0        0.0       0.0        0.0   \n",
       "59932  ...         0.0   0.0        0.0   0.0        0.0       0.0        0.0   \n",
       "59933  ...         0.0   0.0        0.0   0.0        0.0       0.0        0.0   \n",
       "59934  ...         0.0   0.0        0.0   0.0        0.0       0.0        0.0   \n",
       "59935  ...         0.0   0.0        0.0   0.0        0.0       0.0        0.0   \n",
       "59936  ...         0.0   0.0        0.0   0.0        0.0       0.0        0.0   \n",
       "59937  ...         0.0   0.0        0.0   0.0        0.0       0.0        0.0   \n",
       "59938  ...         0.0   0.0        0.0   0.0        0.0       0.0        0.0   \n",
       "59939  ...         0.0   0.0        0.0   0.0        0.0       0.0        0.0   \n",
       "59940  ...         0.0   0.0        0.0   0.0        0.0       0.0        0.0   \n",
       "59941  ...         0.0   0.0        0.0   0.0        0.0       0.0        0.0   \n",
       "59942  ...         0.0   0.0        0.0   0.0        0.0       0.0        0.0   \n",
       "59943  ...         0.0   0.0        0.0   0.0        0.0       0.0        0.0   \n",
       "59944  ...         0.0   0.0        0.0   0.0        0.0       0.0        0.0   \n",
       "59945  ...         0.0   0.0        0.0   0.0        0.0       0.0        0.0   \n",
       "\n",
       "       sew  mermaid  meu  \n",
       "0      0.0      0.0  0.0  \n",
       "1      0.0      0.0  0.0  \n",
       "2      0.0      0.0  0.0  \n",
       "3      0.0      0.0  0.0  \n",
       "4      0.0      0.0  0.0  \n",
       "5      0.0      0.0  0.0  \n",
       "6      0.0      0.0  0.0  \n",
       "7      0.0      0.0  0.0  \n",
       "8      0.0      0.0  0.0  \n",
       "9      0.0      0.0  0.0  \n",
       "10     0.0      0.0  0.0  \n",
       "11     0.0      0.0  0.0  \n",
       "12     0.0      0.0  0.0  \n",
       "13     0.0      0.0  0.0  \n",
       "14     0.0      0.0  0.0  \n",
       "15     0.0      0.0  0.0  \n",
       "16     0.0      0.0  0.0  \n",
       "17     0.0      0.0  0.0  \n",
       "18     0.0      0.0  0.0  \n",
       "19     0.0      0.0  0.0  \n",
       "20     0.0      0.0  0.0  \n",
       "21     0.0      0.0  0.0  \n",
       "22     0.0      0.0  0.0  \n",
       "23     0.0      0.0  0.0  \n",
       "24     0.0      0.0  0.0  \n",
       "25     0.0      0.0  0.0  \n",
       "26     0.0      0.0  0.0  \n",
       "27     0.0      0.0  0.0  \n",
       "28     0.0      0.0  0.0  \n",
       "29     0.0      0.0  0.0  \n",
       "...    ...      ...  ...  \n",
       "59916  0.0      0.0  0.0  \n",
       "59917  0.0      0.0  0.0  \n",
       "59918  0.0      0.0  0.0  \n",
       "59919  0.0      0.0  0.0  \n",
       "59920  0.0      1.0  0.0  \n",
       "59921  0.0      0.0  0.0  \n",
       "59922  0.0      0.0  0.0  \n",
       "59923  0.0      0.0  0.0  \n",
       "59924  0.0      0.0  0.0  \n",
       "59925  0.0      0.0  0.0  \n",
       "59926  0.0      0.0  0.0  \n",
       "59927  0.0      0.0  0.0  \n",
       "59928  0.0      0.0  0.0  \n",
       "59929  0.0      0.0  0.0  \n",
       "59930  0.0      0.0  0.0  \n",
       "59931  0.0      0.0  0.0  \n",
       "59932  0.0      0.0  0.0  \n",
       "59933  0.0      0.0  0.0  \n",
       "59934  0.0      0.0  0.0  \n",
       "59935  0.0      0.0  0.0  \n",
       "59936  0.0      0.0  0.0  \n",
       "59937  0.0      0.0  0.0  \n",
       "59938  0.0      0.0  0.0  \n",
       "59939  0.0      0.0  0.0  \n",
       "59940  0.0      0.0  0.0  \n",
       "59941  0.0      0.0  0.0  \n",
       "59942  0.0      0.0  0.0  \n",
       "59943  0.0      0.0  0.0  \n",
       "59944  0.0      0.0  0.0  \n",
       "59945  0.0      0.0  0.0  \n",
       "\n",
       "[59946 rows x 6204 columns]>"
      ]
     },
     "execution_count": 39,
     "metadata": {},
     "output_type": "execute_result"
    }
   ],
   "source": [
    "essayDF.head"
   ]
  },
  {
   "cell_type": "code",
   "execution_count": 29,
   "metadata": {},
   "outputs": [
    {
     "ename": "AttributeError",
     "evalue": "'numpy.ndarray' object has no attribute 'loc'",
     "output_type": "error",
     "traceback": [
      "\u001b[0;31m---------------------------------------------------------------------------\u001b[0m",
      "\u001b[0;31mAttributeError\u001b[0m                            Traceback (most recent call last)",
      "\u001b[0;32m<ipython-input-29-3f732cefd364>\u001b[0m in \u001b[0;36m<module>\u001b[0;34m\u001b[0m\n\u001b[0;32m----> 1\u001b[0;31m \u001b[0messay_train\u001b[0m \u001b[0;34m=\u001b[0m \u001b[0messay\u001b[0m\u001b[0;34m.\u001b[0m\u001b[0mloc\u001b[0m\u001b[0;34m[\u001b[0m\u001b[0mtrain\u001b[0m\u001b[0;34m.\u001b[0m\u001b[0mindex\u001b[0m\u001b[0;34m.\u001b[0m\u001b[0mvalues\u001b[0m\u001b[0;34m,\u001b[0m\u001b[0;34m:\u001b[0m\u001b[0;34m]\u001b[0m\u001b[0;34m\u001b[0m\u001b[0;34m\u001b[0m\u001b[0m\n\u001b[0m\u001b[1;32m      2\u001b[0m \u001b[0messay_train\u001b[0m\u001b[0;34m.\u001b[0m\u001b[0mshape\u001b[0m\u001b[0;34m\u001b[0m\u001b[0;34m\u001b[0m\u001b[0m\n",
      "\u001b[0;31mAttributeError\u001b[0m: 'numpy.ndarray' object has no attribute 'loc'"
     ]
    }
   ],
   "source": [
    "essay_train = essay.loc[train.index.values,:]\n",
    "essay_train.shape"
   ]
  },
  {
   "cell_type": "code",
   "execution_count": 22,
   "metadata": {},
   "outputs": [
    {
     "data": {
      "text/plain": [
       "(11990, 10)"
      ]
     },
     "execution_count": 22,
     "metadata": {},
     "output_type": "execute_result"
    }
   ],
   "source": [
    "essay_test = essay.loc[test.index.values, :]\n",
    "essay_test.shape"
   ]
  },
  {
   "cell_type": "code",
   "execution_count": null,
   "metadata": {},
   "outputs": [],
   "source": [
    "\n",
    "\n"
   ]
  }
 ],
 "metadata": {
  "kernelspec": {
   "display_name": "Python 3",
   "language": "python",
   "name": "python3"
  },
  "language_info": {
   "codemirror_mode": {
    "name": "ipython",
    "version": 3
   },
   "file_extension": ".py",
   "mimetype": "text/x-python",
   "name": "python",
   "nbconvert_exporter": "python",
   "pygments_lexer": "ipython3",
   "version": "3.7.1"
  }
 },
 "nbformat": 4,
 "nbformat_minor": 2
}
